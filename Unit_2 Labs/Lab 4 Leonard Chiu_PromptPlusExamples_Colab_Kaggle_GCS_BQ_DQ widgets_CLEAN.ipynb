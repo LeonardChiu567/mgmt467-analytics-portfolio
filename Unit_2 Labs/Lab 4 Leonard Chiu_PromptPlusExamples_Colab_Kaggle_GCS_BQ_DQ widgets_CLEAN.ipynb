{
 "cells": [
  {
   "cell_type": "markdown",
   "id": "J056YIZyjYtJ",
   "metadata": {
    "id": "J056YIZyjYtJ"
   },
   "source": [
    "# MGMT 467 — Prompt-Driven Lab (with Commented Examples)\n",
    "## Kaggle ➜ Google Cloud Storage ➜ BigQuery ➜ Data Quality (DQ)\n",
    "\n",
    "**How to use this notebook**\n",
    "- Each section gives you a **Build Prompt** to paste into Gemini/Vertex AI (or Gemini in Colab).\n",
    "- Below each prompt, you’ll see a **commented example** of what a good LLM answer might look like.\n",
    "- **Do not** just uncomment and run. Use the prompt to generate your own code, then compare to the example.\n",
    "- After every step, run the **Verification Prompt**, and write the **Reflection** in Markdown.\n",
    "\n",
    "> Goal today: Download the Netflix dataset (Kaggle) → Stage on GCS → Load into BigQuery → Run DQ profiling (missingness, duplicates, outliers, anomaly flags).\n"
   ]
  },
  {
   "cell_type": "markdown",
   "id": "Q08KTLQMjYtM",
   "metadata": {
    "id": "Q08KTLQMjYtM"
   },
   "source": [
    "### Academic integrity & LLM usage\n",
    "- Use the prompts here to generate your own code cells.\n",
    "- Read concept notes and write the reflection answers in your own words.\n",
    "- Keep credentials out of code. Upload `kaggle.json` when asked.\n"
   ]
  },
  {
   "cell_type": "markdown",
   "id": "XHr-8KcMjYtN",
   "metadata": {
    "id": "XHr-8KcMjYtN"
   },
   "source": [
    "## Learning objectives\n",
    "1) Explain **why** we stage data in GCS and load it to BigQuery.  \n",
    "2) Build an **idempotent**, auditable pipeline.  \n",
    "3) Diagnose **missingness**, **duplicates**, and **outliers** and justify cleaning choices.  \n",
    "4) Connect DQ decisions to **business/ML impact**.\n"
   ]
  },
  {
   "cell_type": "markdown",
   "id": "ZS4um94OjYtN",
   "metadata": {
    "id": "ZS4um94OjYtN"
   },
   "source": [
    "## 0) Environment setup — What & Why\n",
    "Authenticate Colab to Google Cloud so we can use `gcloud`, GCS, and BigQuery. Set **PROJECT_ID** and **REGION** once for consistency (cost/latency)."
   ]
  },
  {
   "cell_type": "markdown",
   "id": "71dwiYlqjYtO",
   "metadata": {
    "id": "71dwiYlqjYtO"
   },
   "source": [
    "### Build Prompt (paste to LLM)\n",
    "You are my cloud TA. Generate a single **Colab code cell** that:\n",
    "1) Authenticates to Google Cloud in Colab,  \n",
    "2) Prompts for `PROJECT_ID` via `input()` and sets `REGION=\"us-central1\"` (editable),  \n",
    "3) Exports `GOOGLE_CLOUD_PROJECT`,  \n",
    "4) Runs `gcloud config set project $GOOGLE_CLOUD_PROJECT`,  \n",
    "5) Prints both values. Add 2–3 comments explaining what/why.\n",
    "End with a comment: `# Done: Auth + Project/Region set`.\n"
   ]
  },
  {
   "cell_type": "code",
   "execution_count": null,
   "id": "e248a60f",
   "metadata": {
    "colab": {
     "base_uri": "https://localhost:8080/"
    },
    "executionInfo": {
     "elapsed": 31126,
     "status": "ok",
     "timestamp": 1760641599419,
     "user": {
      "displayName": "Leonard Chiu",
      "userId": "02396244503768992375"
     },
     "user_tz": 240
    },
    "id": "e248a60f",
    "outputId": "7c6a9e39-4afa-48b7-e640-023a1bf450d6"
   },
   "outputs": [],
   "source": [
    "# Authenticate to Google Cloud in Colab\n",
    "from google.colab import auth\n",
    "auth.authenticate_user()\n",
    "\n",
    "import os\n",
    "\n",
    "# Prompt for Project ID and set Region\n",
    "PROJECT_ID = input(\"Enter your GCP Project ID: \").strip()\n",
    "REGION = \"us-central1\"  # Keep consistent; change if instructed\n",
    "\n",
    "# Export GOOGLE_CLOUD_PROJECT for gcloud commands\n",
    "os.environ[\"GOOGLE_CLOUD_PROJECT\"] = PROJECT_ID\n",
    "\n",
    "# Set the active project for gcloud and BigQuery CLI\n",
    "!gcloud config set project $GOOGLE_CLOUD_PROJECT\n",
    "\n",
    "# Print the set values\n",
    "print(\"Project:\", PROJECT_ID, \"| Region:\", REGION)\n",
    "\n",
    "# Done: Auth + Project/Region set"
   ]
  },
  {
   "cell_type": "markdown",
   "id": "baB8_drljYtP",
   "metadata": {
    "id": "baB8_drljYtP"
   },
   "source": [
    "### Verification Prompt\n",
    "Generate a short cell that prints the active project using `gcloud config get-value project` and echoes the `REGION` you set.\n"
   ]
  },
  {
   "cell_type": "markdown",
   "id": "AjZdJhcSjYtQ",
   "metadata": {
    "id": "AjZdJhcSjYtQ"
   },
   "source": [
    "**Reflection:** Why do we set `PROJECT_ID` and `REGION` at the top? What can go wrong if we don’t?\n",
    "\n"
   ]
  },
  {
   "cell_type": "markdown",
   "id": "9JzwkCLlg7QI",
   "metadata": {
    "id": "9JzwkCLlg7QI"
   },
   "source": [
    "Setting the PROJECT_ID and REGION at the beginning of the notebook ensures consistency and avoids potential issues. Commands could fali and resources could be created in the wrong project/region if we don't."
   ]
  },
  {
   "cell_type": "markdown",
   "id": "Lwrq1gR6jYtQ",
   "metadata": {
    "id": "Lwrq1gR6jYtQ"
   },
   "source": [
    "## 1) Kaggle API — What & Why\n",
    "Use Kaggle CLI for reproducible downloads. Store `kaggle.json` at `~/.kaggle/kaggle.json` with `0600` permissions to protect secrets."
   ]
  },
  {
   "cell_type": "markdown",
   "id": "4IXIcjJrjYtQ",
   "metadata": {
    "id": "4IXIcjJrjYtQ"
   },
   "source": [
    "### Build Prompt\n",
    "Generate a **single Colab code cell** that:\n",
    "- Prompts me to upload `kaggle.json`,\n",
    "- Saves to `~/.kaggle/kaggle.json` with `0600` permissions,\n",
    "- Prints `kaggle --version`.\n",
    "Add comments about security and reproducibility.\n"
   ]
  },
  {
   "cell_type": "code",
   "execution_count": null,
   "id": "4127b8ae",
   "metadata": {
    "colab": {
     "base_uri": "https://localhost:8080/",
     "height": 110
    },
    "executionInfo": {
     "elapsed": 9973,
     "status": "ok",
     "timestamp": 1760641617181,
     "user": {
      "displayName": "Leonard Chiu",
      "userId": "02396244503768992375"
     },
     "user_tz": 240
    },
    "id": "4127b8ae",
    "outputId": "6456c683-3da0-4301-8fae-8d4c885ef438"
   },
   "outputs": [],
   "source": [
    "# Prompt user to upload their kaggle.json file\n",
    "# This file contains your Kaggle API credentials. Keep it secure.\n",
    "from google.colab import files\n",
    "print(\"Upload your kaggle.json (Kaggle > Account > Create New API Token)\")\n",
    "uploaded = files.upload()\n",
    "\n",
    "# Ensure the .kaggle directory exists in the home directory\n",
    "# This is where the Kaggle CLI expects to find the credentials file.\n",
    "import os\n",
    "os.makedirs('/root/.kaggle', exist_ok=True)\n",
    "\n",
    "# Save the uploaded file to the correct location\n",
    "# Use the first file uploaded (assuming only one: kaggle.json)\n",
    "with open('/root/.kaggle/kaggle.json', 'wb') as f:\n",
    "    f.write(uploaded[list(uploaded.keys())[0]])\n",
    "\n",
    "# Set file permissions to 0600 (owner read/write only)\n",
    "# This is crucial for security to prevent other users/processes from accessing your token.\n",
    "os.chmod('/root/.kaggle/kaggle.json', 0o600)\n",
    "\n",
    "# Verify the Kaggle CLI is installed and configured\n",
    "# This also confirms the credential file is in the right place and has correct permissions.\n",
    "!kaggle --version"
   ]
  },
  {
   "cell_type": "markdown",
   "id": "DzqZ--NkjYtQ",
   "metadata": {
    "id": "DzqZ--NkjYtQ"
   },
   "source": [
    "### Verification Prompt\n",
    "Generate a one-liner that runs `kaggle --help | head -n 20` to show the CLI is ready.\n"
   ]
  },
  {
   "cell_type": "markdown",
   "id": "Ij0f_RV0jYtR",
   "metadata": {
    "id": "Ij0f_RV0jYtR"
   },
   "source": [
    "**Reflection:** Why require strict `0600` permissions on API tokens? What risks are we avoiding?\n"
   ]
  },
  {
   "cell_type": "markdown",
   "id": "1nUokPOJgvzZ",
   "metadata": {
    "id": "1nUokPOJgvzZ"
   },
   "source": [
    "This is crucial for security because API tokens are essentially passwords,\n",
    "this ensures that only the owner of the file can read nad write to it.\n"
   ]
  },
  {
   "cell_type": "markdown",
   "id": "VZA7Di0hgp34",
   "metadata": {
    "id": "VZA7Di0hgp34"
   },
   "source": []
  },
  {
   "cell_type": "markdown",
   "id": "UtHAaEQMjYtR",
   "metadata": {
    "id": "UtHAaEQMjYtR"
   },
   "source": [
    "## 2) Download & unzip dataset — What & Why\n",
    "Keep raw files under `/content/data/raw` for predictable paths and auditing.\n",
    "**Dataset:** `sayeeduddin/netflix-2025user-behavior-dataset-210k-records`"
   ]
  },
  {
   "cell_type": "code",
   "execution_count": null,
   "id": "e22b3509",
   "metadata": {
    "colab": {
     "base_uri": "https://localhost:8080/"
    },
    "executionInfo": {
     "elapsed": 1537,
     "status": "ok",
     "timestamp": 1760641627648,
     "user": {
      "displayName": "Leonard Chiu",
      "userId": "02396244503768992375"
     },
     "user_tz": 240
    },
    "id": "e22b3509",
    "outputId": "3d89cbff-159b-4b26-9a88-51e92888d8d7"
   },
   "outputs": [],
   "source": [
    "# Create directory for raw data\n",
    "# This ensures a consistent location for downloaded files.\n",
    "!mkdir -p /content/data/raw\n",
    "\n",
    "# Download the dataset from Kaggle\n",
    "# The -p flag specifies the download path.\n",
    "!kaggle datasets download -d sayeeduddin/netflix-2025user-behavior-dataset-210k-records -p /content/data\n",
    "\n",
    "# Unzip the downloaded file into the raw data directory\n",
    "# The -o flag allows overwriting if files already exist.\n",
    "!unzip -o /content/data/*.zip -d /content/data/raw\n",
    "\n",
    "# List all CSV files in the raw data directory with their sizes\n",
    "# This provides a clear inventory of the downloaded and unzipped files.\n",
    "!ls -lh /content/data/raw/*.csv"
   ]
  },
  {
   "cell_type": "markdown",
   "id": "GuCdWGYtjYtR",
   "metadata": {
    "id": "GuCdWGYtjYtR"
   },
   "source": [
    "### Build Prompt\n",
    "Generate a **Colab code cell** that:\n",
    "- Creates `/content/data/raw`,\n",
    "- Downloads the dataset to `/content/data` with Kaggle CLI,\n",
    "- Unzips into `/content/data/raw` (overwrite OK),\n",
    "- Lists all CSVs with sizes in a neat table.\n",
    "Include comments describing each step.\n"
   ]
  },
  {
   "cell_type": "code",
   "execution_count": null,
   "id": "NEhfthEBjYtR",
   "metadata": {
    "colab": {
     "base_uri": "https://localhost:8080/"
    },
    "executionInfo": {
     "elapsed": 1446,
     "status": "ok",
     "timestamp": 1760641662008,
     "user": {
      "displayName": "Leonard Chiu",
      "userId": "02396244503768992375"
     },
     "user_tz": 240
    },
    "id": "NEhfthEBjYtR",
    "outputId": "d19cfc43-e812-494c-afbd-b766a2159d30"
   },
   "outputs": [],
   "source": [
    "# Create directory for raw data\n",
    "# This ensures a consistent location for downloaded files.\n",
    "!mkdir -p /content/data/raw\n",
    "\n",
    "# Download the dataset from Kaggle\n",
    "# The -p flag specifies the download path.\n",
    "!kaggle datasets download -d sayeeduddin/netflix-2025user-behavior-dataset-210k-records -p /content/data\n",
    "\n",
    "# Unzip the downloaded file into the raw data directory\n",
    "# The -o flag allows overwriting if files already exist.\n",
    "!unzip -o /content/data/*.zip -d /content/data/raw\n",
    "\n",
    "# List all CSV files in the raw data directory with their sizes\n",
    "# This provides a clear inventory of the downloaded and unzipped files.\n",
    "!ls -lh /content/data/raw/*.csv"
   ]
  },
  {
   "cell_type": "markdown",
   "id": "zilBjhOXjYtR",
   "metadata": {
    "id": "zilBjhOXjYtR"
   },
   "source": [
    "### Verification Prompt\n",
    "Generate a snippet that asserts there are exactly **six** CSV files and prints their names.\n"
   ]
  },
  {
   "cell_type": "code",
   "execution_count": null,
   "id": "KU2_XBMUhI2j",
   "metadata": {
    "colab": {
     "base_uri": "https://localhost:8080/"
    },
    "executionInfo": {
     "elapsed": 30,
     "status": "ok",
     "timestamp": 1760643289764,
     "user": {
      "displayName": "Leonard Chiu",
      "userId": "02396244503768992375"
     },
     "user_tz": 240
    },
    "id": "KU2_XBMUhI2j",
    "outputId": "55f1e64a-4186-4cde-a9dc-628d6bd65706"
   },
   "outputs": [],
   "source": [
    "# Verify there are exactly six CSV files and print their names\n",
    "import os\n",
    "import glob\n",
    "\n",
    "csv_files = glob.glob('/content/data/raw/*.csv')\n",
    "\n",
    "# Assert that there are exactly 6 CSV files\n",
    "assert len(csv_files) == 6, f\"Expected 6 CSV files, but found {len(csv_files)}\"\n",
    "\n",
    "# Print the names of the CSV files\n",
    "print(\"Found the following CSV files:\")\n",
    "for csv_file in csv_files:\n",
    "    print(os.path.basename(csv_file))"
   ]
  },
  {
   "cell_type": "markdown",
   "id": "xcyRSXrrjYtR",
   "metadata": {
    "id": "xcyRSXrrjYtR"
   },
   "source": [
    "**Reflection:** Why is keeping a clean file inventory (names, sizes) useful downstream?."
   ]
  },
  {
   "cell_type": "markdown",
   "id": "EN4yLhjQhFYv",
   "metadata": {
    "id": "EN4yLhjQhFYv"
   },
   "source": [
    "Clean file inventories help with reproducibility, auditing and provenance, troubleshooting, and resource management. It can also help with scripting and automation"
   ]
  },
  {
   "cell_type": "markdown",
   "id": "fDjtDdRyjYtR",
   "metadata": {
    "id": "fDjtDdRyjYtR"
   },
   "source": [
    "## 3) Create GCS bucket & upload — What & Why\n",
    "Stage in GCS → consistent, versionable source for BigQuery loads. Bucket names must be **globally unique**."
   ]
  },
  {
   "cell_type": "markdown",
   "id": "0gzjoj6TjYtR",
   "metadata": {
    "id": "0gzjoj6TjYtR"
   },
   "source": [
    "### Build Prompt\n",
    "Generate a **Colab code cell** that:\n",
    "- Creates a unique bucket in `${REGION}` (random suffix),\n",
    "- Saves name to `BUCKET_NAME` env var,\n",
    "- Uploads all CSVs to `gs://$BUCKET_NAME/netflix/`,\n",
    "- Prints the bucket name and explains staging benefits.\n"
   ]
  },
  {
   "cell_type": "code",
   "execution_count": null,
   "id": "346431c4",
   "metadata": {
    "colab": {
     "base_uri": "https://localhost:8080/"
    },
    "executionInfo": {
     "elapsed": 8667,
     "status": "ok",
     "timestamp": 1760641693135,
     "user": {
      "displayName": "Leonard Chiu",
      "userId": "02396244503768992375"
     },
     "user_tz": 240
    },
    "id": "346431c4",
    "outputId": "708404d3-9d35-4dd8-c241-fbdaa5047e28"
   },
   "outputs": [],
   "source": [
    "# --- Create a unique GCS bucket and upload Netflix dataset for BigQuery Staging ---\n",
    "import os, uuid, re\n",
    "\n",
    "# 1) Define region and bucket name\n",
    "region = \"US\"\n",
    "bucket_name = f\"mgmt467-netflix-{uuid.uuid4().hex[:8]}\"\n",
    "\n",
    "# 2) Expose values to both Python and shell\n",
    "os.environ[\"BUCKET_NAME\"] = bucket_name\n",
    "os.environ[\"REGION\"] = region\n",
    "\n",
    "# 3) Create bucket (NOTE: use --location=$REGION or --location={region}; both are fine now)\n",
    "!gcloud storage buckets create gs://$BUCKET_NAME --location=$REGION\n",
    "\n",
    "# 4) UPLOAD CSVs and verify\n",
    "!gcloud storage cp /content/data/raw/* gs://$BUCKET_NAME/netflix/\n",
    "!gcloud storage ls gs://$BUCKET_NAME/netflix/"
   ]
  },
  {
   "cell_type": "markdown",
   "id": "1D4TyBQrjYtS",
   "metadata": {
    "id": "1D4TyBQrjYtS"
   },
   "source": [
    "### Verification Prompt\n",
    "Generate a snippet that lists the `netflix/` prefix and shows object sizes.\n"
   ]
  },
  {
   "cell_type": "code",
   "execution_count": null,
   "id": "8cf2d4cd",
   "metadata": {
    "colab": {
     "base_uri": "https://localhost:8080/"
    },
    "executionInfo": {
     "elapsed": 2089,
     "status": "ok",
     "timestamp": 1760641721070,
     "user": {
      "displayName": "Leonard Chiu",
      "userId": "02396244503768992375"
     },
     "user_tz": 240
    },
    "id": "8cf2d4cd",
    "outputId": "8771cd23-2fae-4bf6-8808-d15f60507a0c"
   },
   "outputs": [],
   "source": [
    "# List objects in the GCS bucket under the 'netflix/' prefix with sizes\n",
    "# The -l flag provides a long listing, including object size.\n",
    "!gcloud storage ls -l gs://$BUCKET_NAME/netflix/"
   ]
  },
  {
   "cell_type": "markdown",
   "id": "u146r1S-jYtS",
   "metadata": {
    "id": "u146r1S-jYtS"
   },
   "source": [
    "**Reflection:** Name two benefits of staging in GCS vs loading directly from local Colab.\n"
   ]
  },
  {
   "cell_type": "markdown",
   "id": "YVnoIUSChZim",
   "metadata": {
    "id": "YVnoIUSChZim"
   },
   "source": [
    "One is scalability and accessibility, and another benefit is reproducibility and collaboration, staging in GCS makes both easier."
   ]
  },
  {
   "cell_type": "markdown",
   "id": "hsihmSCBjYtS",
   "metadata": {
    "id": "hsihmSCBjYtS"
   },
   "source": [
    "## 4) BigQuery dataset & loads — What & Why\n",
    "Create dataset `netflix` and load six CSVs with **autodetect** for speed (we’ll enforce schemas later)."
   ]
  },
  {
   "cell_type": "markdown",
   "id": "DlahjvwzjYtS",
   "metadata": {
    "id": "DlahjvwzjYtS"
   },
   "source": [
    "### Build Prompt (two cells)\n",
    "**Cell A:** Create (idempotently) dataset `netflix` in US multi-region; if it exists, print a friendly message.  \n",
    "**Cell B:** Load tables from `gs://$BUCKET_NAME/netflix/`:\n",
    "`users, movies, watch_history, recommendation_logs, search_logs, reviews`\n",
    "with `--skip_leading_rows=1 --autodetect --source_format=CSV`.\n",
    "Finish with row-count queries for each table.\n"
   ]
  },
  {
   "cell_type": "code",
   "execution_count": null,
   "id": "e27a8054",
   "metadata": {
    "colab": {
     "base_uri": "https://localhost:8080/",
     "height": 301,
     "referenced_widgets": [
      "99c2c9a1b4c241c09b21e0b3a807fad0",
      "61001887f0384f60a82ea9fd7b39d8f8",
      "cccfcb9620054d9e8e8aa18f1ba7f8ed",
      "49cea8f5257a45b48635e8c60ebd7e03",
      "b114df2ffd4a4eb5a2264afe522a4db6",
      "a9302f138b4e4e469bbbcecb15ee8f2a",
      "f9c88616d9954b9784bb93d367ac2f31",
      "71f99e16b5434e75b302b18bd872ba5a",
      "8633192655064fc8a5233d0a8f163c35",
      "cae343f80cbd490dac76c6bfb74ad535",
      "84a0b7f388e1416dba79c416270943b8",
      "f2a844b2a6b8496cbfb0a31cc40a4c98",
      "192e4f6f27bb4e5a964a31f5ad07e4cf",
      "e26b3b71d09245f7ae25a4fdffccb201",
      "56cbbd81b7c54ed5b36d0f7993eded1c",
      "70810e680ac147e4969a2541f7b7751e",
      "dd25b394c74a46148688fe85a016b5d4",
      "553e447392a7487691f395b223b2f6db",
      "0b7fc253843c457a9c0ae0eb33a19573",
      "1f6fe159c07142ce97f7f51b6d3b1716",
      "2b2d9f80c7034a979d5f91b11f7854a7",
      "24a9821db97e4aa396b67c202f4c6a75"
     ]
    },
    "executionInfo": {
     "elapsed": 3284,
     "status": "ok",
     "timestamp": 1760641861335,
     "user": {
      "displayName": "Leonard Chiu",
      "userId": "02396244503768992375"
     },
     "user_tz": 240
    },
    "id": "e27a8054",
    "outputId": "6227ad24-77fc-4039-d99b-bf83f998d9c8"
   },
   "outputs": [],
   "source": [
    "# Verify row counts for all tables\n",
    "%%bigquery\n",
    "SELECT 'users' AS table_name, COUNT(*) AS n FROM `mgmt-467-4677.netflix.users`\n",
    "UNION ALL\n",
    "SELECT 'movies' AS table_name, COUNT(*) AS n FROM `mgmt-467-4677.netflix.movies`\n",
    "UNION ALL\n",
    "SELECT 'watch_history' AS table_name, COUNT(*) AS n FROM `mgmt-467-4677.netflix.watch_history`\n",
    "UNION ALL\n",
    "SELECT 'recommendation_logs' AS table_name, COUNT(*) AS n FROM `mgmt-467-4677.netflix.recommendation_logs`\n",
    "UNION ALL\n",
    "SELECT 'search_logs' AS table_name, COUNT(*) AS n FROM `mgmt-467-4677.netflix.search_logs`\n",
    "UNION ALL\n",
    "SELECT 'reviews' AS table_name, COUNT(*) AS n FROM `mgmt-467-4677.netflix.reviews`"
   ]
  },
  {
   "cell_type": "markdown",
   "id": "zD9iW7RejYtS",
   "metadata": {
    "id": "zD9iW7RejYtS"
   },
   "source": [
    "### Verification Prompt\n",
    "Generate a single query that returns `table_name, row_count` for all six tables in `${GOOGLE_CLOUD_PROJECT}.netflix`.\n"
   ]
  },
  {
   "cell_type": "code",
   "execution_count": null,
   "id": "8b25ce98",
   "metadata": {
    "colab": {
     "base_uri": "https://localhost:8080/",
     "height": 301,
     "referenced_widgets": [
      "dd7615aeb2464b93a360220e91938e3a",
      "f1be2cb02f4041f78bd258d569964612",
      "b881dd2db07d4b40a07fb357036ab7a9",
      "f709054d14df47dca61a949de3ccf605",
      "62ace4d2d0044170bf59b4d5135ecc7d",
      "e9975cd73fd84efca0614be3dd2475dc",
      "143f4631a06843678f9c2486cae8f3e4",
      "390cd4b170bc4e48bd0a14b55ae1e2a2",
      "60fa742c6f8045ebae5dfb272e7f261c",
      "4061567de83b4a3da0c124d860719bbd",
      "ac4d34c1efd44da7895130918affabc6",
      "fce2e132e79b4f6a9eb620e2c9bd72f8",
      "5facffc474fa47e68e2b9b103f477771",
      "ee894bc95dd146e88a965cb09adb42e3",
      "f200928a5f84485bad31cf4555f32967",
      "549732f0d5e04957adaddc23a96dd1f0",
      "541579930aad43e7aaf1e94a25c70286",
      "33e997a9ffb44dcbbde7913b713f8e0d",
      "2fddf26ae8c44fb895510386c27b8598",
      "fff75b2e04354a5d9e363cff70af15b7",
      "43fa1ecabac94d8e824ab3b6ba75b4f4",
      "8d024c20b08f45ad805d66935e750585"
     ]
    },
    "executionInfo": {
     "elapsed": 2626,
     "status": "ok",
     "timestamp": 1760643386099,
     "user": {
      "displayName": "Leonard Chiu",
      "userId": "02396244503768992375"
     },
     "user_tz": 240
    },
    "id": "8b25ce98",
    "outputId": "ba8dfb73-d632-45b1-d2dc-414e0039b9ec"
   },
   "outputs": [],
   "source": [
    "# Generate a single query that returns table_name, row_count for all six tables in ${GOOGLE_CLOUD_PROJECT}.netflix.\n",
    "%%bigquery\n",
    "SELECT 'users' AS table_name, COUNT(*) AS n FROM `mgmt-467-4677.netflix.users`\n",
    "UNION ALL\n",
    "SELECT 'movies' AS table_name, COUNT(*) AS n FROM `mgmt-467-4677.netflix.movies`\n",
    "UNION ALL\n",
    "SELECT 'watch_history' AS table_name, COUNT(*) AS n FROM `mgmt-467-4677.netflix.watch_history`\n",
    "UNION ALL\n",
    "SELECT 'recommendation_logs' AS table_name, COUNT(*) AS n FROM `mgmt-467-4677.netflix.recommendation_logs`\n",
    "UNION ALL\n",
    "SELECT 'search_logs' AS table_name, COUNT(*) AS n FROM `mgmt-467-4677.netflix.search_logs`\n",
    "UNION ALL\n",
    "SELECT 'reviews' AS table_name, COUNT(*) AS n FROM `mgmt-467-4677.netflix.reviews`"
   ]
  },
  {
   "cell_type": "markdown",
   "id": "bOB1QwTYjYtT",
   "metadata": {
    "id": "bOB1QwTYjYtT"
   },
   "source": [
    "**Reflection:** When is `autodetect` acceptable? When should you enforce explicit schemas and why?"
   ]
  },
  {
   "cell_type": "markdown",
   "id": "24I3qbQvhiPX",
   "metadata": {
    "id": "24I3qbQvhiPX"
   },
   "source": [
    "Autodetect is acceptable during exploratory data analysis, rapid prototyping, and well-structured, consistent data. We should enforce explicit schemas during production ETL/ELT pipeliness nd when preserving data quality and integrity."
   ]
  },
  {
   "cell_type": "markdown",
   "id": "FHaEXN6ljYtT",
   "metadata": {
    "id": "FHaEXN6ljYtT"
   },
   "source": [
    "## 5) Data Quality (DQ) — Concepts we care about\n",
    "- **Missingness** (MCAR/MAR/MNAR). Impute vs drop. Add `is_missing_*` indicators.\n",
    "- **Duplicates** (exact vs near). Double-counted engagement corrupts labels & KPIs.\n",
    "- **Outliers** (IQR). Winsorize/cap vs robust models. Always **flag** and explain.\n",
    "- **Reproducibility**. Prefer `CREATE OR REPLACE` and deterministic keys.\n"
   ]
  },
  {
   "cell_type": "markdown",
   "id": "BbWedi0TjYtT",
   "metadata": {
    "id": "BbWedi0TjYtT"
   },
   "source": [
    "### 5.1 Missingness (users) — What & Why\n",
    "Measure % missing and check if missingness depends on another variable (MAR) → potential bias & instability."
   ]
  },
  {
   "cell_type": "markdown",
   "id": "4cm54XDOjYtT",
   "metadata": {
    "id": "4cm54XDOjYtT"
   },
   "source": [
    "### Build Prompt\n",
    "Generate **two BigQuery SQL cells**:\n",
    "1) Total rows and % missing in `region`, `plan_tier`, `age_band` from `users`.\n",
    "2) `% plan_tier missing by region` ordered descending. Add comments on MAR.\n"
   ]
  },
  {
   "cell_type": "code",
   "execution_count": null,
   "id": "44153455",
   "metadata": {
    "colab": {
     "base_uri": "https://localhost:8080/",
     "height": 145,
     "referenced_widgets": [
      "ad945ae9463a4eb3af2b54c02a5c3a72",
      "33b39131a76942b6a17d9fe4fa5c6725",
      "77b3dc1e81694bbbb771447a7ed00b6f",
      "544c370c00e04f0bb7e6def6f08c6dcf",
      "0e2cf1f1f81c471288c4f9a5387cb9db",
      "04f76770ac9a435590eb30880df3a76d",
      "75f6cbeb389d41fa85dd084b538643a1",
      "782e8a9465d147c09f006bfd70edd7f3",
      "19669298291a486f89c8b7d59b18f437",
      "0e715ea501f44bcca4a1e183848ccaf7",
      "87d20ea8070c48058a98c6380f3c9cfb",
      "6876b87aa3cb4ba58355b3569c592b82",
      "6dc3ae855eda4560a0c9027c811cef27",
      "d0ecbf3a513c4400a8b82d6aa13304bc",
      "55c9da69aa45447cbdb70b1a30b00345",
      "51c9cc5865f9453599bd78ff69eea2a6",
      "79cc276981c04b5cb94b48f76fa6fa93",
      "c51f7d9c296e4211929d210429cb61b6",
      "300325182b4543a9a3b5e34db72012c1",
      "f8fd105c3f4f4141a37279d8f3726f49",
      "bffa7b07439541e89e2f6e9a65dea5b6",
      "ecf39229b5aa4569a434853915343fd1"
     ]
    },
    "executionInfo": {
     "elapsed": 2950,
     "status": "ok",
     "timestamp": 1760642079774,
     "user": {
      "displayName": "Leonard Chiu",
      "userId": "02396244503768992375"
     },
     "user_tz": 240
    },
    "id": "44153455",
    "outputId": "a7340cd7-69d1-46b4-e9ac-d741dfae4803"
   },
   "outputs": [],
   "source": [
    "# Verification query: Print the three missingness percentages\n",
    "# This query retrieves and displays the calculated missingness percentages\n",
    "# for country, subscription_plan, and age from the previous query's results.\n",
    "%%bigquery\n",
    "SELECT pct_missing_country, pct_missing_subscription_plan, pct_missing_age\n",
    "FROM (\n",
    "  WITH base AS (\n",
    "    SELECT COUNT(*) n,\n",
    "           COUNTIF(country IS NULL) miss_country,\n",
    "           COUNTIF(subscription_plan IS NULL) miss_plan,\n",
    "           COUNTIF(age IS NULL) miss_age\n",
    "    FROM `mgmt-467-4677.netflix.users`\n",
    "  )\n",
    "  SELECT n,\n",
    "         ROUND(100*miss_country/n,2) AS pct_missing_country,\n",
    "         ROUND(100*miss_plan/n,2)   AS pct_missing_subscription_plan,\n",
    "         ROUND(100*miss_age/n,2)    AS pct_missing_age\n",
    "  FROM base\n",
    ")\n",
    "LIMIT 1;"
   ]
  },
  {
   "cell_type": "code",
   "execution_count": null,
   "id": "eede347b",
   "metadata": {
    "colab": {
     "base_uri": "https://localhost:8080/",
     "height": 176,
     "referenced_widgets": [
      "0f2d9e4decb94038b28654f5b80a4487",
      "cab19f5cdd9e4356ae82472ffd5be8cf",
      "4ae4a9ef07504faf8fe3ae79e834d12a",
      "0568a902d49749c09cf4b99d9645b3b3",
      "6b877ed1b1ab460aac4641c041ede44e",
      "b6b4aaa32e03405da7b97e60fb5a945b",
      "47096fabe9194cafa5981d49e72cd5a3",
      "1d9942ad558645a6b03a68220b7ce7d9",
      "a6a64be4946d48649bf5735b770d0a24",
      "c20600b569a44bf18e760f831e15c1eb",
      "8a49ac2d6fb148748ec8b0e4c88228b6",
      "7fb1bd2f301747d2aa2f0a74110b4c51",
      "d273aeee8c714f2689859768eec3f0b3",
      "1fb656bc196f4f309da124a201bec2f8",
      "fc9d62fe1e7349c18192770eaeb569f4",
      "cdbfec463df24ba18583081b90145b42",
      "863de8e52d994f4f8133fb622d484396",
      "a645bdf2173f4b3c9a4e19438dea5a71",
      "fd139cd07d09427d8d33c3175fb3c767",
      "0c0287b7466a466c844a6ff5881815b8",
      "8c29c0a2061e431787052832d0403f5f",
      "b5aea98d8fa64f95aac6c8af329dc06e"
     ]
    },
    "executionInfo": {
     "elapsed": 2993,
     "status": "ok",
     "timestamp": 1760642066164,
     "user": {
      "displayName": "Leonard Chiu",
      "userId": "02396244503768992375"
     },
     "user_tz": 240
    },
    "id": "eede347b",
    "outputId": "0f950d60-d4ba-4859-f6bb-27ed19aef9b9"
   },
   "outputs": [],
   "source": [
    "# -- % subscription_plan missing by country ordered descending\n",
    "# This query calculates the percentage of missing 'subscription_plan' values for each country.\n",
    "# It helps identify if the missingness of 'subscription_plan' is dependent on the 'country' (Missing At Random - MAR).\n",
    "%%bigquery\n",
    "SELECT country,\n",
    "       COUNT(*) AS n,\n",
    "       ROUND(100*COUNTIF(subscription_plan IS NULL)/COUNT(*),2) AS pct_missing_subscription_plan\n",
    "FROM `mgmt-467-4677.netflix.users`\n",
    "GROUP BY country\n",
    "ORDER BY pct_missing_subscription_plan DESC;"
   ]
  },
  {
   "cell_type": "code",
   "execution_count": null,
   "id": "c52ec0db",
   "metadata": {
    "colab": {
     "base_uri": "https://localhost:8080/",
     "height": 377,
     "referenced_widgets": [
      "80faa435d20c4934a03f41913aebff63",
      "0831207b9ffd4888a27be9b2cd0f7b5a",
      "13aa6c1fe90e45bebbbb5607c8ac53f8",
      "f8f66602aeb8498c8db8f1632e65626c",
      "36cfb754a1484494af7fba533eaa21f0",
      "53dad244ecc44c358da96cb7fc2ab007",
      "d0fde14f40ff48f693ccc75eba3e996d",
      "adebbe9d22ea4b0eaccc7cd5ae0a9da9",
      "355e9f5b87584c4ba9bc41da34b327b2",
      "29ceaf118eb742d9bd248c438ec88f0e",
      "309308cfb7be4404a5eea6ccc46145c0",
      "f510720ae8cd43dfa90d6760614690f8",
      "4ed46fb1af424e9a97d314230fe59571",
      "d8a3adda10f04f6ba3706ccfa03501dc",
      "f5526a2e918942e7ac3280e163a209ce",
      "437b1b4213a9463d9e3d3407a6832316",
      "bc6a45a36c314c1e90ea7ae42c2bbfd6",
      "0b7ef1a09d8746aa9b7d74b8b8671046",
      "1c094002f9c24fe2803b9a9897f02aa6",
      "4011883ee3f34273bfa061a78fcedc5e",
      "2c9c81d7933548a6ae987591615634c4",
      "02ef9602139347d0b14a0ed1285851d6"
     ]
    },
    "executionInfo": {
     "elapsed": 3439,
     "status": "ok",
     "timestamp": 1760642039762,
     "user": {
      "displayName": "Leonard Chiu",
      "userId": "02396244503768992375"
     },
     "user_tz": 240
    },
    "id": "c52ec0db",
    "outputId": "615c7e27-3c0a-4c01-df85-dc2868355630"
   },
   "outputs": [],
   "source": [
    "# Select a few rows from the users table to check column names\n",
    "%%bigquery\n",
    "SELECT *\n",
    "FROM `mgmt-467-4677.netflix.users`\n",
    "LIMIT 5"
   ]
  },
  {
   "cell_type": "code",
   "execution_count": null,
   "id": "9729ecb4",
   "metadata": {
    "colab": {
     "base_uri": "https://localhost:8080/",
     "height": 145,
     "referenced_widgets": [
      "691b900308eb46918cd37974d977958f",
      "a79dd21affc9432c8032154b769f98a4",
      "855c850cd377495098b10e61f1535c51",
      "1cb1d324e02d480dba9bb32b0b108c34",
      "d061a4022e8f4a5c9182a5a0ebdfc48b",
      "9312f0468f49413ea11794b751475b4c",
      "3378cf94ab224c379be8a803983e0eb7",
      "9b2eced2bc044c1a993446e21c36677d",
      "842c88fd5cca45f3b8c444ec06208cfb",
      "443bd8bc9755437d88ba30ce6be5a6fb",
      "108689ed257c45aaa1baf7dc87d0b4d3",
      "f9cb6006ad8746a59a49d692a73b572b",
      "24934bc9cf8546d992f2d87b134c3e69",
      "c81989e272044851a14ed8f0ebdce748",
      "f994aa40f0634801b07df27a2de39282",
      "3390fda20d964be990d880cb118c988d",
      "39f922efaa0b4c948ac91db2156ee4d5",
      "60f57ca7592a4dabb4e7fa2506e600b5",
      "929731069a6040bd8c8168aaf447c541",
      "a81eaae1cba4454d91bab1f56691d3fc",
      "7d9efa14122d4aa4bd9d2c432543996b",
      "f10d63038f2e49f782491773bd5933b6"
     ]
    },
    "executionInfo": {
     "elapsed": 2855,
     "status": "ok",
     "timestamp": 1760642053603,
     "user": {
      "displayName": "Leonard Chiu",
      "userId": "02396244503768992375"
     },
     "user_tz": 240
    },
    "id": "9729ecb4",
    "outputId": "c47556fa-c7ab-46ab-811a-4744361def12"
   },
   "outputs": [],
   "source": [
    "# -- Users: % missing per column\n",
    "# This query calculates the total number of rows and the percentage of missing values\n",
    "# for the 'country', 'subscription_plan', and 'age' columns in the 'users' table.\n",
    "%%bigquery\n",
    "WITH base AS (\n",
    "  SELECT COUNT(*) n,\n",
    "         COUNTIF(country IS NULL) miss_country,\n",
    "         COUNTIF(subscription_plan IS NULL) miss_plan,\n",
    "         COUNTIF(age IS NULL) miss_age\n",
    "  FROM `mgmt-467-4677.netflix.users`\n",
    ")\n",
    "SELECT n,\n",
    "       ROUND(100*miss_country/n,2) AS pct_missing_country,\n",
    "       ROUND(100*miss_plan/n,2)   AS pct_missing_subscription_plan,\n",
    "       ROUND(100*miss_age/n,2)    AS pct_missing_age\n",
    "FROM base;"
   ]
  },
  {
   "cell_type": "markdown",
   "id": "h8SPRy3xjYtT",
   "metadata": {
    "id": "h8SPRy3xjYtT"
   },
   "source": [
    "### Verification Prompt\n",
    "Generate a query that prints the three missingness percentages from (1), rounded to two decimals.\n"
   ]
  },
  {
   "cell_type": "code",
   "execution_count": null,
   "id": "2c691b51",
   "metadata": {
    "colab": {
     "base_uri": "https://localhost:8080/",
     "height": 145,
     "referenced_widgets": [
      "85dc6e36ab394008aef1d42563fafdfd",
      "fb36d27abd1b4952b37badd53932c43e",
      "59831ecae82e4c0aafcb277a62fa8759",
      "aa81960602bf48eba229ecb7fc0f375b",
      "0c31772a117c47f986bab05e0915fa14",
      "a662bc8e7a3b41eb9ca4684ebf31af80",
      "9d3b71234fde43659d1ec12967683646",
      "914e95c84d8b480a9d58684392038855",
      "6dbc6ebd060e497b9e3139e1b68aafb8",
      "e70e4a37a8074bf086ce16c37c25f163",
      "63550004f49641e1b3b1463fc3106c7a",
      "5e839b18c578470093e24df63f6f7143",
      "5c56be816e004ca88cb74d47187372ba",
      "9178cb90f3714567a0c3b3d78cbd7f22",
      "3901d46c40d14742af75ffe47f622100",
      "0e7244c7fca44546a55c8b20f2dece0e",
      "9ad095a7fd7a4eb3b4b2e3eac11a9b24",
      "447b7d10edd946aa958ee275c6e19121",
      "42cd1bb9a53740c4b84464e69abf4c54",
      "9780c317008948e7a9b8739fc216a691",
      "98ca2ee95e6c41209092c44e7b1aa87a",
      "e31396851cb64339b93cd96163591761"
     ]
    },
    "executionInfo": {
     "elapsed": 2811,
     "status": "ok",
     "timestamp": 1760642175249,
     "user": {
      "displayName": "Leonard Chiu",
      "userId": "02396244503768992375"
     },
     "user_tz": 240
    },
    "id": "2c691b51",
    "outputId": "1e598d46-2193-4d48-e4ee-de4518169641"
   },
   "outputs": [],
   "source": [
    "# Verification query: Print the three missingness percentages\n",
    "# This query retrieves and displays the calculated missingness percentages\n",
    "# for country, subscription_plan, and age from the previous query's results.\n",
    "%%bigquery\n",
    "SELECT pct_missing_country, pct_missing_subscription_plan, pct_missing_age\n",
    "FROM (\n",
    "  WITH base AS (\n",
    "    SELECT COUNT(*) n,\n",
    "           COUNTIF(country IS NULL) miss_country,\n",
    "           COUNTIF(subscription_plan IS NULL) miss_plan,\n",
    "           COUNTIF(age IS NULL) miss_age\n",
    "    FROM `mgmt-467-4677.netflix.users`\n",
    "  )\n",
    "  SELECT n,\n",
    "         ROUND(100*miss_country/n,2) AS pct_missing_country,\n",
    "         ROUND(100*miss_plan/n,2)   AS pct_missing_subscription_plan,\n",
    "         ROUND(100*miss_age/n,2)    AS pct_missing_age\n",
    "  FROM base\n",
    ")\n",
    "LIMIT 1;"
   ]
  },
  {
   "cell_type": "markdown",
   "id": "OE9XsKkMjYtU",
   "metadata": {
    "id": "OE9XsKkMjYtU"
   },
   "source": [
    "**Reflection:** Which columns are most missing? Hypothesize MCAR/MAR/MNAR and why."
   ]
  },
  {
   "cell_type": "markdown",
   "id": "6eu5VXsnh2dg",
   "metadata": {
    "id": "6eu5VXsnh2dg"
   },
   "source": [
    "Based on the output of the missingness analysis in cell 2c691b51, the age column is the most missing, with 11.93% of its values being null. The country and subscription_plan columns have no missing values.\n",
    "\n",
    "Missing Completely At Random (MCAR): This would mean the missingness of age is not related to any other variable in the dataset, nor is it related to the age itself. For example, if the missingness was due to a random technical glitch during data collection, it might be MCAR.\n",
    "Missing At Random (MAR): This would mean the missingness of age is related to another variable in the dataset, but not the age itself after accounting for that variable. For instance, if users from a specific country were less likely to provide their age, the missingness would be MAR. We would need to investigate the relationship between age missingness and other columns like country or device_type to assess this.\n",
    "Missing Not At Random (MNAR): This would mean the missingness of age is related to the age itself. For example, if older or younger users were less likely to provide their age, the missingness would be MNAR. This is often the hardest to handle as the missingness mechanism is dependent on the missing value itself."
   ]
  },
  {
   "cell_type": "markdown",
   "id": "LlnRxO1QjYtU",
   "metadata": {
    "id": "LlnRxO1QjYtU"
   },
   "source": [
    "### 5.2 Duplicates (watch_history) — What & Why\n",
    "Find exact duplicate interaction records and keep **one best** per group (deterministic policy)."
   ]
  },
  {
   "cell_type": "markdown",
   "id": "K6H7h6PHjYtU",
   "metadata": {
    "id": "K6H7h6PHjYtU"
   },
   "source": [
    "### Build Prompt\n",
    "Generate **two BigQuery SQL cells**:\n",
    "1) Report duplicate groups on `(user_id, movie_id, event_ts, device_type)` with counts (top 20).\n",
    "2) Create table `watch_history_dedup` that keeps one row per group (prefer higher `progress_ratio`, then `minutes_watched`). Add comments.\n"
   ]
  },
  {
   "cell_type": "code",
   "execution_count": null,
   "id": "d5964f69",
   "metadata": {
    "colab": {
     "base_uri": "https://localhost:8080/",
     "height": 176,
     "referenced_widgets": [
      "e3e0a27e7c174aa7b48d9f090a626baf",
      "7140805970a04fcdbc8b190c8c66a04f",
      "3e82170f356149f28517a8ae9f215a29",
      "3d1fbb9dc6204c5aa2132c9d8fd6f65f",
      "9d7c04b3efb8484b88a13d3c0653c22a",
      "f032239de15d434cac864b4cb703f4a7",
      "ec69d30366b445428ad838a6f687eab4",
      "7be02ca835c7494f85350c7ad8b6e935",
      "91d182a506124b28aafad1e62a6c48e1",
      "72c53863ed944127a2be21d9ef091cd3",
      "feb0ca5c451c4811844edcc7ae4abd22",
      "4ff816e1139248ac81f3114e6d95dea7",
      "9e9a3ad86d664203968d9d38f1765298",
      "7b19a82f8d39496085362e58f311439e",
      "2797ed39ad6843de861b8c7da925dd76",
      "bb49820aa79f408a9bb1e93bc1d1915b",
      "36a3f42ed13d44ecbce77aa7f6879d33",
      "0b31c94616e24a9e8aa5fad655974479",
      "83c47ca2238741e78a4acc2488b61306",
      "4e99500b96a24d438eb82614890facc3",
      "8feb77629ca8410595db90a706a41244",
      "4b3f1fd0a52441de8bad42c5a76551ba"
     ]
    },
    "executionInfo": {
     "elapsed": 3160,
     "status": "ok",
     "timestamp": 1760642247717,
     "user": {
      "displayName": "Leonard Chiu",
      "userId": "02396244503768992375"
     },
     "user_tz": 240
    },
    "id": "d5964f69",
    "outputId": "1972ef0f-1b8c-4f85-b1ee-88d944e7b2bd"
   },
   "outputs": [],
   "source": [
    "# Verification query: Before/after count comparing raw vs watch_history_dedup\n",
    "# This query compares the number of rows in the original watch_history table\n",
    "# and the new watch_history_dedup table to show the effect of deduplication.\n",
    "%%bigquery\n",
    "SELECT 'watch_history_raw' AS table_name, COUNT(*) AS n FROM `mgmt-467-4677.netflix.watch_history`\n",
    "UNION ALL\n",
    "SELECT 'watch_history_dedup' AS table_name, COUNT(*) AS n FROM `mgmt-467-4677.netflix.watch_history_dedup`;"
   ]
  },
  {
   "cell_type": "code",
   "execution_count": null,
   "id": "86f6f8d3",
   "metadata": {
    "colab": {
     "base_uri": "https://localhost:8080/",
     "height": 270,
     "referenced_widgets": [
      "ccc48cd3915545ad8d787d2111f89a12",
      "1b58245c4dfd4e92923ad683594d0e1a",
      "57ea5a6a3aca467d88a6602c31cb83ce",
      "e785107be0d14497b1a941c99f659995",
      "b665a431eaa34785943a8d6c1123d168",
      "b2b3e87210b84cdb9b21de19a61d210d",
      "6323bf2e5b1a4903af9daf36b3a3a56c",
      "c9298c27bee84a649d29f149ce71084b",
      "ec061d0ca80c423f97f0b6940f482efb",
      "ce5059249d4d404892099e96720fc90a",
      "07d2360226b74c56bcaef5c29c3eddbc",
      "d02972c3616e43a9ae68ed8029799a89",
      "bcf6a0e0bfc94d7cbef277b760773432",
      "c5303752f85b42a5a069b8299afba4a1",
      "7f0dd92514ff4517914098621ebc9fc5",
      "6935adcd9885411f9640553a25165eaa",
      "7a865cf9852a4f77a5be7bd4a1129b34",
      "de22700357de49359b48b43650aae636",
      "7abcb2e722ba479a9ae0d7f764384bbf",
      "04613765023b4a70a0b67836d35c9c14",
      "3b396a24167b440f86b2c812936e7949",
      "9ace15529a6c45cc8ba5d58bb08c546a"
     ]
    },
    "executionInfo": {
     "elapsed": 2707,
     "status": "ok",
     "timestamp": 1760642215875,
     "user": {
      "displayName": "Leonard Chiu",
      "userId": "02396244503768992375"
     },
     "user_tz": 240
    },
    "id": "86f6f8d3",
    "outputId": "01826c7a-c145-41a3-a213-d3d7e9315a07"
   },
   "outputs": [],
   "source": [
    "# Select a few rows from the watch_history table to check column names\n",
    "%%bigquery\n",
    "SELECT *\n",
    "FROM `mgmt-467-4677.netflix.watch_history`\n",
    "LIMIT 5"
   ]
  },
  {
   "cell_type": "code",
   "execution_count": null,
   "id": "Fh8JK8J5jYtU",
   "metadata": {
    "colab": {
     "base_uri": "https://localhost:8080/",
     "height": 740,
     "referenced_widgets": [
      "4dac48838b3543d181a2557384f48775",
      "7bba6b183ef4405b9560648128c3bfb6",
      "ef6f5b3175234f12a509ce25093eab7c",
      "babf40a5387f43cd8d056a8979e9400f",
      "68791c5392ee46dc89b8d9c97acfe0bc",
      "38a06359797f4bd1aeb154e3f8117c19",
      "a016930cbe8141dea1195bb8db050f11",
      "62f18cf705794a3e96442bc92191e4fe",
      "d3121c5380674aeb8fb1d0e8014cd484",
      "720ecfbf5b494b2ebc8c9c338def9ade",
      "d9603a960e3d49cb9e1e7604a61d3e6e",
      "e8c50c85597e44cc8b63e2452311a68f",
      "750ee4f1448d4207927588d348838007",
      "19d842ca07554d57911d5afd5c639175",
      "e9a695bf3164414c9466ee16b1b72a7d",
      "af7cf945e83640cc9cfa200f5509f261",
      "1c391b0324af4a9a9cec96f7f0ce17ee",
      "1a6511b5d86c4113945930481ad68185",
      "07b63fcf7f094c2f9ab2dbece28d02c5",
      "dd0ea63e76a24514b5815973a1c1c98a",
      "76db0f4d0f0143b5b093026d4bcbcbb9",
      "2bfa83a3d152499a9e87f387f35cef4f"
     ]
    },
    "executionInfo": {
     "elapsed": 2597,
     "status": "ok",
     "timestamp": 1760642230668,
     "user": {
      "displayName": "Leonard Chiu",
      "userId": "02396244503768992375"
     },
     "user_tz": 240
    },
    "id": "Fh8JK8J5jYtU",
    "outputId": "c844ef83-17a0-4857-a1ce-fba3df70012d"
   },
   "outputs": [],
   "source": [
    "# -- Report duplicate groups on (user_id, movie_id, watch_date, device_type) with counts (top 20)\n",
    "# This query identifies and counts duplicate rows based on key columns in the watch_history table.\n",
    "# Understanding duplicates is crucial for accurate analysis and modeling.\n",
    "%%bigquery\n",
    "SELECT user_id, movie_id, watch_date, device_type, COUNT(*) AS dup_count\n",
    "FROM `mgmt-467-4677.netflix.watch_history`\n",
    "GROUP BY user_id, movie_id, watch_date, device_type\n",
    "HAVING dup_count > 1\n",
    "ORDER BY dup_count DESC\n",
    "LIMIT 20;"
   ]
  },
  {
   "cell_type": "code",
   "execution_count": null,
   "id": "wXaiqBGfjYtg",
   "metadata": {
    "colab": {
     "base_uri": "https://localhost:8080/",
     "height": 85,
     "referenced_widgets": [
      "13cc86faf80049cfabc9f9ef965b0d11",
      "12cee22b78934c74848e4dff80b196aa",
      "b36fb174567d48b2a15d357a4d580a2b",
      "0950e43b91f4442d9bb45fe810d95298",
      "bfd2a94847094c6ca26cd5eea7ddc54a",
      "f0360e6a890e4e82a4226047a781ac75",
      "27a174544de84b2aab87e5b8ca97a86f",
      "b0d18056fa874690b7ffc7b04050be7e",
      "5a70b641cfe14a798eb06dfd0c7b24f2",
      "05629e708d64419baabafb14236c9c58",
      "69f1be9830064fa6ac7d03495e31a93b"
     ]
    },
    "executionInfo": {
     "elapsed": 3305,
     "status": "ok",
     "timestamp": 1760642234309,
     "user": {
      "displayName": "Leonard Chiu",
      "userId": "02396244503768992375"
     },
     "user_tz": 240
    },
    "id": "wXaiqBGfjYtg",
    "outputId": "0a56aaa7-b128-4cad-cdd6-eeb5b208970c"
   },
   "outputs": [],
   "source": [
    "# -- Create table watch_history_dedup that keeps one row per group\n",
    "# This query creates a new table with duplicates removed, keeping one row per group\n",
    "# based on a defined policy (preferring higher progress_percentage, then watch_duration_minutes).\n",
    "# This ensures a clean dataset for downstream tasks.\n",
    "%%bigquery\n",
    "CREATE OR REPLACE TABLE `mgmt-467-4677.netflix.watch_history_dedup` AS\n",
    "SELECT * EXCEPT(rk) FROM (\n",
    "  SELECT h.*,\n",
    "         ROW_NUMBER() OVER (\n",
    "           PARTITION BY user_id, movie_id, watch_date, device_type\n",
    "           ORDER BY progress_percentage DESC, watch_duration_minutes DESC\n",
    "         ) AS rk\n",
    "  FROM `mgmt-467-4677.netflix.watch_history` h\n",
    ")\n",
    "WHERE rk = 1;"
   ]
  },
  {
   "cell_type": "markdown",
   "id": "vn3wSp0wjYth",
   "metadata": {
    "id": "vn3wSp0wjYth"
   },
   "source": [
    "### Verification Prompt\n",
    "Generate a before/after count query comparing raw vs `watch_history_dedup`.\n"
   ]
  },
  {
   "cell_type": "code",
   "execution_count": null,
   "id": "1be25443",
   "metadata": {
    "colab": {
     "base_uri": "https://localhost:8080/",
     "height": 176,
     "referenced_widgets": [
      "ec59aed04c1242f38896441d2059f5cd",
      "8c18246a29b2488d86d93e722e0cdb9b",
      "c8eab01ccd8e4fecadddd2f7cc5609e7",
      "990d17d26fbe40d7bbd375baf1d3eb55",
      "34d023801f8d425f833e2e43744c525b",
      "06ccc63e41fb4f9984ab0a30dd2a1d1d",
      "b0957672c2cf497daac03b3457d4b59c",
      "ff39263e44ba4a078400ae6344e1d4fc",
      "fe5589c5387b4d4d9821a223831c4218",
      "4a3d15b079ff4430b46c5553a82ae955",
      "92b2da31cbd2419ca822799cc60dad59",
      "37dba235599541889f3e367b6267145e",
      "8bf6dceacf5b4b749093ba2ff4aac2da",
      "f022e090d87e4ecf87bcf0a26890ed64",
      "383421708211427ead6d9f2afbdb1806",
      "91ecbcdd478146cfaab0477c65ded8e4",
      "84ffe5e45bab49d7abd3be6005ed929b",
      "b50052bc614340789252021bf212fa06",
      "791f937d831649f3a823f7de085da221",
      "3aec8a2cbf83473f8da63f59b4fb0c9c",
      "7aa3caf1123840c580e6fc38a99f8a22",
      "84a8df60184d4db2bbb00472b7fa4187"
     ]
    },
    "executionInfo": {
     "elapsed": 2686,
     "status": "ok",
     "timestamp": 1760642299845,
     "user": {
      "displayName": "Leonard Chiu",
      "userId": "02396244503768992375"
     },
     "user_tz": 240
    },
    "id": "1be25443",
    "outputId": "b20d4d78-75ff-401e-c784-65832c0e4398"
   },
   "outputs": [],
   "source": [
    "# Verification query: Before/after count comparing raw vs watch_history_dedup\n",
    "# This query compares the number of rows in the original watch_history table\n",
    "# and the new watch_history_dedup table to show the effect of deduplication.\n",
    "%%bigquery\n",
    "SELECT 'watch_history_raw' AS table_name, COUNT(*) AS n FROM `mgmt-467-4677.netflix.watch_history`\n",
    "UNION ALL\n",
    "SELECT 'watch_history_dedup' AS table_name, COUNT(*) AS n FROM `mgmt-467-4677.netflix.watch_history_dedup`;"
   ]
  },
  {
   "cell_type": "markdown",
   "id": "3qEO-uYejYth",
   "metadata": {
    "id": "3qEO-uYejYth"
   },
   "source": [
    "**Reflection:** Why do duplicates arise (natural vs system-generated)? How do they corrupt labels and KPIs?"
   ]
  },
  {
   "cell_type": "markdown",
   "id": "QNxkzLnMiBLG",
   "metadata": {
    "id": "QNxkzLnMiBLG"
   },
   "source": [
    "Duplicates can arise from various sources:\n",
    "\n",
    "Natural Duplicates: These are genuine, distinct records that happen to have the same values across certain columns. For example, two different users might watch the same movie on the same device at the same time (though less common with a precise timestamp).\n",
    "System-Generated Duplicates: These are more common and often due to issues in data collection, processing, or integration. Examples include:\n",
    "Multiple data sources: Combining data from different systems without a proper unique identifier or deduplication process.\n",
    "Retries or errors: Failed data writes or network issues can lead to retries that create duplicate records.\n",
    "Manual data entry errors: Human mistakes during data input can lead to the same information being entered multiple times.\n",
    "Data transformation issues: Errors in ETL/ELT processes can unintentionally duplicate records.\n",
    "Device or software glitches: Mobile apps or streaming software might send duplicate event signals.\n",
    "In the case of the watch_history table, system-generated duplicates are likely the primary cause, especially given the high number of exact duplicates found on user_id, movie_id, watch_date, and device_type.\n",
    "\n",
    "Duplicates can significantly corrupt labels and Key Performance Indicators (KPIs) by artificially inflating counts and distorting calculations:\n",
    "\n",
    "Inflated Metrics: KPIs like \"total watch time,\" \"number of unique viewers,\" or \"completion rates\" will be artificially inflated if duplicate watch events are counted multiple times.\n",
    "Incorrect Labels for ML: If you're building a machine learning model (e.g., predicting user churn or recommending content), duplicate interaction records can lead to incorrect labels. For example, a user who watched a movie once might appear to have watched it multiple times due to duplicates, leading the model to misinterpret their engagement level.\n",
    "Skewed Distributions: Duplicates can skew the distribution of variables. For instance, the average watch duration might appear higher than it is if duplicate records with high duration are included.\n",
    "Biased Analysis: Any analysis based on counts or aggregations will be biased, leading to incorrect conclusions about user behavior or content performance.\n",
    "Resource Waste: Storing and processing duplicate data wastes storage space and processing power in your data warehouse."
   ]
  },
  {
   "cell_type": "markdown",
   "id": "qCwpylsRjYth",
   "metadata": {
    "id": "qCwpylsRjYth"
   },
   "source": [
    "### 5.3 Outliers (minutes_watched) — What & Why\n",
    "Estimate extreme values via IQR; report % outliers; **winsorize** to P01/P99 for robustness while also **flagging** extremes."
   ]
  },
  {
   "cell_type": "markdown",
   "id": "chnTrx3pjYth",
   "metadata": {
    "id": "chnTrx3pjYth"
   },
   "source": [
    "### Build Prompt\n",
    "Generate **two BigQuery SQL cells**:\n",
    "1) Compute IQR bounds for `minutes_watched` on `watch_history_dedup` and report % outliers.\n",
    "2) Create `watch_history_robust` with `minutes_watched_capped` capped at P01/P99; return quantile summaries before/after.\n"
   ]
  },
  {
   "cell_type": "code",
   "execution_count": null,
   "id": "b395d025",
   "metadata": {
    "colab": {
     "base_uri": "https://localhost:8080/",
     "height": 270,
     "referenced_widgets": [
      "51b585abdcfe4b229c83b4a1c4160c08",
      "c6ed10ee93774d9eb4299d70fbb250a2",
      "6332d11ee96a4147a7d50725edae460a",
      "ffd01e1448444059aeb308006512b7cc",
      "b3ddf3d357d74105bf399de5bb9682ba",
      "946635a00199464d988bf4a60896f9d5",
      "9029177aa7ac4752a14b62e22674bd13",
      "746286e4c9f14e0abe5fb487a640bf4c",
      "34449b7a523241f7a81d5aed6e273380",
      "f5bfb08d49664c58b836187760cdf238",
      "fbadecb8c3444ffdbc19a0a9a6d9a5ee",
      "7cc030ef024d426582450e8a61ccc3d4",
      "2b63803860894efe90b16060dc665107",
      "dc72d8d191d649bb8e8ff9e5e635584c",
      "eb9bafc8a447468c8db5947fa9874f72",
      "7443772f49254926a2c545e39f8c3f7e",
      "3f5cf93ff3f44a0ba1d1584f84ffb426",
      "9408d8b133d642a9b64975b009002776",
      "29bbc4464c67401383ea82238581f7f7",
      "2c50d491ed064bfc98335907a38b6332",
      "e281f0ca767c401e9194634883c0c2c5",
      "37f6625c69da4c1a9acb6a4869cf4e67"
     ]
    },
    "executionInfo": {
     "elapsed": 2718,
     "status": "ok",
     "timestamp": 1760642348177,
     "user": {
      "displayName": "Leonard Chiu",
      "userId": "02396244503768992375"
     },
     "user_tz": 240
    },
    "id": "b395d025",
    "outputId": "1ced172e-7860-4d64-d1c4-9efdcaf3c6a8"
   },
   "outputs": [],
   "source": [
    "# Select a few rows from the watch_history_dedup table to check column names\n",
    "%%bigquery\n",
    "SELECT *\n",
    "FROM `mgmt-467-4677.netflix.watch_history_dedup`\n",
    "LIMIT 5"
   ]
  },
  {
   "cell_type": "code",
   "execution_count": null,
   "id": "7b495e77",
   "metadata": {
    "colab": {
     "base_uri": "https://localhost:8080/",
     "height": 145,
     "referenced_widgets": [
      "63f75a7239bb43fdbe53fa84951b2dab",
      "745b5168f3f340a8a4c7a4d3e1741f7c",
      "dcde89c320b340428b2b50dda03fd1bb",
      "7fca03f50de84d278d1194b3512e89d7",
      "5c27b3b41893461499110fc6be882222",
      "e63be85b1df14bacbf6ede6cb0420e32",
      "a6662bbac1864fc8a1b0327343450624",
      "129ac33123ce44dd82fed4a59ffd40c9",
      "2562615d52764c02b1a2f7e10c7bf079",
      "62591ed757f94776a5bc9b0daab4c806",
      "006d3504ca9f4be6b492838f7f4993d9",
      "ad8f801a01cf4f1c93ac34e2eb7b660f",
      "09b1041e5b594a82ad9a0b16883082ec",
      "ce1b22a67cf54327b0d53ac078a50543",
      "07ee2878edd24e98ab5d393084b0dc32",
      "15dccf84886b44a8936da025a0992f7d",
      "b98de2fef447480891079d97b7882f5a",
      "4af09d97a0a544adbef73e63c8fdd23f",
      "5733c54275754c38bd3d470395312172",
      "579701a865f84464858f91a2c9165baf",
      "cbf3e54035cb487a879bb93b6041f3ed",
      "cbfbee6167414bd0a372f48c897c5bdb"
     ]
    },
    "executionInfo": {
     "elapsed": 3099,
     "status": "ok",
     "timestamp": 1760642366916,
     "user": {
      "displayName": "Leonard Chiu",
      "userId": "02396244503768992375"
     },
     "user_tz": 240
    },
    "id": "7b495e77",
    "outputId": "d970da0a-015a-4abe-ea28-cb8fa3c3e5a8"
   },
   "outputs": [],
   "source": [
    "# -- Compute IQR bounds for watch_duration_minutes and report % outliers\n",
    "# This query calculates the Interquartile Range (IQR) for 'watch_duration_minutes'\n",
    "# and determines the percentage of values that fall outside the IQR bounds (outliers).\n",
    "%%bigquery\n",
    "SELECT\n",
    "    COUNT(*) AS total_rows,\n",
    "    COUNTIF(watch_duration_minutes < q1 - 1.5 * iqr OR watch_duration_minutes > q3 + 1.5 * iqr) AS outlier_count,\n",
    "    ROUND(100 * COUNTIF(watch_duration_minutes < q1 - 1.5 * iqr OR watch_duration_minutes > q3 + 1.5 * iqr) / COUNT(*), 2) AS pct_outliers\n",
    "FROM\n",
    "    `mgmt-467-4677.netflix.watch_history_dedup`,\n",
    "    (\n",
    "        SELECT\n",
    "            APPROX_QUANTILES(watch_duration_minutes, 4)[OFFSET(1)] AS q1,\n",
    "            APPROX_QUANTILES(watch_duration_minutes, 4)[OFFSET(3)] AS q3,\n",
    "            APPROX_QUANTILES(watch_duration_minutes, 4)[OFFSET(3)] - APPROX_QUANTILES(watch_duration_minutes, 4)[OFFSET(1)] AS iqr\n",
    "        FROM `mgmt-467-4677.netflix.watch_history_dedup`\n",
    "        WHERE watch_duration_minutes IS NOT NULL\n",
    "    )\n",
    "WHERE watch_duration_minutes IS NOT NULL;"
   ]
  },
  {
   "cell_type": "code",
   "execution_count": null,
   "id": "a231acd9",
   "metadata": {
    "colab": {
     "base_uri": "https://localhost:8080/",
     "height": 176,
     "referenced_widgets": [
      "29d7d2cd494748549965296feb97840c",
      "6aacf93c221e4b109fd21fbfab52fe42",
      "cf942bb3f7ce4f2bad491371cefbeacf",
      "d4b7eb41d97f480dab904b4a5bc3d0fa",
      "02756b5b72284d0d97158277bd5e90bc",
      "51eb74b2d0c8431294101f1692f63b03",
      "b02fddaef3f142a8a66e9fc14bfd7638",
      "b8ec49dc2bc4435a80f0823905fbf272",
      "b0962ca73ec74f088fcb59570611a971",
      "cb5f537df96140c2afa62efabbd79401",
      "154febd0482b4a47bd31109666826f1e",
      "493259c04e7c4ed8b739f9e5a10337e0",
      "2247c3e79d2b468893619834f153f695",
      "98fc56d3dd0d4a31a6c04a509e231ac1",
      "f5ddf1a8a3574bfb998283acc4896593",
      "b11f08791c0e45cfad5acf07489d705a",
      "0811e6aec2f345bca51980163c3f607d",
      "92419513b01d4152b05e76e9c23daeee",
      "d9a54595baad48f7a2e770312aae64c6",
      "179ef8229e35417998b3d5e5c4416a0d",
      "a20d69f4c3ca4b8a94864d98c2ca9f7f",
      "e9eb93d5b0d7432eb0fcdfccbeaebbae"
     ]
    },
    "executionInfo": {
     "elapsed": 7258,
     "status": "ok",
     "timestamp": 1760642374507,
     "user": {
      "displayName": "Leonard Chiu",
      "userId": "02396244503768992375"
     },
     "user_tz": 240
    },
    "id": "a231acd9",
    "outputId": "1e2f43a3-eb5d-4436-819e-c1b172844d37"
   },
   "outputs": [],
   "source": [
    "# -- Create watch_history_robust with watch_duration_minutes_capped at P01/P99; return quantile summaries before/after.\n",
    "# This query creates a new table with 'watch_duration_minutes' values capped at the 1st and 99th percentiles\n",
    "# to handle outliers. It then returns quantile summaries for both the original and capped columns\n",
    "# to show the effect of capping.\n",
    "%%bigquery\n",
    "CREATE OR REPLACE TABLE `mgmt-467-4677.netflix.watch_history_robust` AS\n",
    "SELECT\n",
    "    *,\n",
    "    IF(watch_duration_minutes < p1, p1, IF(watch_duration_minutes > p99, p99, watch_duration_minutes)) AS watch_duration_minutes_capped\n",
    "FROM\n",
    "    `mgmt-467-4677.netflix.watch_history_dedup`,\n",
    "    (\n",
    "        SELECT\n",
    "            APPROX_QUANTILES(watch_duration_minutes, 100)[OFFSET(1)] AS p1,\n",
    "            APPROX_QUANTILES(watch_duration_minutes, 100)[OFFSET(99)] AS p99\n",
    "        FROM `mgmt-467-4677.netflix.watch_history_dedup`\n",
    "        WHERE watch_duration_minutes IS NOT NULL\n",
    "    );\n",
    "\n",
    "SELECT\n",
    "  'before_capping' AS summary_type,\n",
    "  APPROX_QUANTILES(watch_duration_minutes, 100)[OFFSET(0)] AS min,\n",
    "  APPROX_QUANTILES(watch_duration_minutes, 100)[OFFSET(50)] AS median,\n",
    "  APPROX_QUANTILES(watch_duration_minutes, 100)[OFFSET(100)] AS max\n",
    "FROM `mgmt-467-4677.netflix.watch_history_dedup`\n",
    "UNION ALL\n",
    "SELECT\n",
    "  'after_capping' AS summary_type,\n",
    "  APPROX_QUANTILES(watch_duration_minutes_capped, 100)[OFFSET(0)] AS min,\n",
    "  APPROX_QUANTILES(watch_duration_minutes_capped, 100)[OFFSET(50)] AS median,\n",
    "  APPROX_QUANTILES(watch_duration_minutes_capped, 100)[OFFSET(100)] AS max\n",
    "FROM `mgmt-467-4677.netflix.watch_history_robust`\n",
    "WHERE watch_duration_minutes_capped IS NOT NULL;"
   ]
  },
  {
   "cell_type": "markdown",
   "id": "cEXJq2gLjYth",
   "metadata": {
    "id": "cEXJq2gLjYth"
   },
   "source": [
    "### Verification Prompt\n",
    "Generate a query that shows min/median/max before vs after capping.\n"
   ]
  },
  {
   "cell_type": "code",
   "execution_count": null,
   "id": "8fc9a6e1",
   "metadata": {
    "colab": {
     "base_uri": "https://localhost:8080/",
     "height": 176,
     "referenced_widgets": [
      "f9ad7ef54fa84228994d7bce86a8b61f",
      "0e04b96ee2e14460bf28c314e3d0f29b",
      "cc4a9880a17f4202b1bfb4090cc1d39f",
      "e5f42ca70bf840f18f44713add378926",
      "83449bc197c74ec590ca3c27a96f1b25",
      "3f28511efc734d0984cb8e6026424e96",
      "dae0faa8dbfc4ee4993187e3cf6abab4",
      "62152900ac8b4626af8d0607546ed139",
      "7d640141e45844beb7e35cd8e3102d81",
      "68e6df30fb524a1f86e2643d45ba0d86",
      "8cedfd2465564d5591685a2d34a3c17d",
      "0a05d3f27e0a4217b05756e19e85e870",
      "b9c6d0cf8db34ced939fe06ed3e3c514",
      "905f8aac1cb34071b995ac84e9dfb122",
      "a1b5e4f449504ee996ebddadeebdc7b0",
      "4f1220558b36491396ad705ebee72f86",
      "e89de3b933784cbb886d671e511b2f04",
      "a200926290a54f69899e9f24f3c97cfd",
      "b9641030d1ff421e9137d3f89535cfc2",
      "7d4899256dcd4614892522366506e47c",
      "3d2fe777034f47f1956da8517733e7e4",
      "0af898de2a6a46cd821c4c98effaa4f2"
     ]
    },
    "executionInfo": {
     "elapsed": 2537,
     "status": "ok",
     "timestamp": 1760642400398,
     "user": {
      "displayName": "Leonard Chiu",
      "userId": "02396244503768992375"
     },
     "user_tz": 240
    },
    "id": "8fc9a6e1",
    "outputId": "c9247f47-c167-42a9-fc26-954ec4a3f28b"
   },
   "outputs": [],
   "source": [
    "# Verification query: shows min/median/max before vs after capping.\n",
    "# This query returns quantile summaries for both the original and capped columns\n",
    "# to show the effect of capping.\n",
    "%%bigquery\n",
    "SELECT\n",
    "  'before_capping' AS summary_type,\n",
    "  APPROX_QUANTILES(watch_duration_minutes, 100)[OFFSET(0)] AS min,\n",
    "  APPROX_QUANTILES(watch_duration_minutes, 100)[OFFSET(50)] AS median,\n",
    "  APPROX_QUANTILES(watch_duration_minutes, 100)[OFFSET(100)] AS max\n",
    "FROM `mgmt-467-4677.netflix.watch_history_dedup`\n",
    "UNION ALL\n",
    "SELECT\n",
    "  'after_capping' AS summary_type,\n",
    "  APPROX_QUANTILES(watch_duration_minutes_capped, 100)[OFFSET(0)] AS min,\n",
    "  APPROX_QUANTILES(watch_duration_minutes_capped, 100)[OFFSET(50)] AS median,\n",
    "  APPROX_QUANTILES(watch_duration_minutes_capped, 100)[OFFSET(100)] AS max\n",
    "FROM `mgmt-467-4677.netflix.watch_history_robust`\n",
    "WHERE watch_duration_minutes_capped IS NOT NULL;"
   ]
  },
  {
   "cell_type": "markdown",
   "id": "X33vyb-DjYth",
   "metadata": {
    "id": "X33vyb-DjYth"
   },
   "source": [
    "**Reflection:** When might capping be harmful? Name a model type less sensitive to outliers and why."
   ]
  },
  {
   "cell_type": "markdown",
   "id": "PdM9Ca40iN4y",
   "metadata": {
    "id": "PdM9Ca40iN4y"
   },
   "source": [
    "Capping can be harmful when outliers represent genuine, important data points (e.g., a record-breaking watch time) that are critical for analysis or model performance. Arbitrarily capping these values can distort the true distribution and lead to loss of valuable information.\n",
    "\n",
    "Model types less sensitive to outliers include tree-based models like Decision Trees, Random Forests, and Gradient Boosting models (e.g., LightGBM, XGBoost). This is because these models make decisions based on splitting data at different thresholds. Outliers that fall far from the bulk of the data have less influence on where these splits occur compared to linear models (like linear regression) where outliers can heavily skew the fitted line."
   ]
  },
  {
   "cell_type": "markdown",
   "id": "Op1AhJxHjYth",
   "metadata": {
    "id": "Op1AhJxHjYth"
   },
   "source": [
    "### 5.4 Business anomaly flags — What & Why\n",
    "Human-readable flags help both product decisioning and ML features (e.g., binge behavior)."
   ]
  },
  {
   "cell_type": "markdown",
   "id": "ciLeW5WCjYth",
   "metadata": {
    "id": "ciLeW5WCjYth"
   },
   "source": [
    "### Build Prompt\n",
    "Generate **three BigQuery SQL cells** (adjust if columns differ):\n",
    "1) In `watch_history_robust`, compute and summarize `flag_binge` for sessions > 8 hours.\n",
    "2) In `users`, compute and summarize `flag_age_extreme` if age can be parsed from `age_band` (<10 or >100).\n",
    "3) In `movies`, compute and summarize `flag_duration_anomaly` where `duration_min` < 15 or > 480 (if exists).\n",
    "Each cell should output count and percentage and include 1–2 comments.\n"
   ]
  },
  {
   "cell_type": "code",
   "execution_count": null,
   "id": "e437c3d6",
   "metadata": {
    "colab": {
     "base_uri": "https://localhost:8080/",
     "height": 145,
     "referenced_widgets": [
      "969ecbd9a000417f9fe7795dee9e0933",
      "a78a5577469a4eec8077868eddeba3bc",
      "a072029fb493447096d668b2b33a4751",
      "2f4a03e822c54a95b6d7eb83bf317c7f",
      "fdee08fb77034b0da4195b517452c332",
      "ec1fbb87ecc04e8da83b2fa405cddef1",
      "d74a934c29e34495b3ea7b20d22a4fc6",
      "024ca320e0d643adb610daac015fe5ee",
      "760f625723c047cbade6b4b36f6f6622",
      "d02307eca4e24249a1230536d09624fb",
      "5e40e0dfd2314c7684279cbcfe72923a",
      "065e465458234d43b30ce8b92f04f6ca",
      "d0dd6fea696d4bb782d2156a2bff6255",
      "4bfd7b92518947529ea862935274df88",
      "4999c577e5d94f4485d6b747b86b9e23",
      "5c986b95138349e8ba4283d35c1d8585",
      "03e5339e824b4591879a9afc4aae7c7d",
      "b0058b3ffed5448facc9d96519afef77",
      "0684d29837fe413ebe37f26309b2aedd",
      "e191850f34f04115a688993fdbb2041b",
      "5fb72a549e9a4c22a612a1e3938e02d8",
      "b525f96d51884ad6ab4e009e43a72aa6"
     ]
    },
    "executionInfo": {
     "elapsed": 2838,
     "status": "ok",
     "timestamp": 1760642434295,
     "user": {
      "displayName": "Leonard Chiu",
      "userId": "02396244503768992375"
     },
     "user_tz": 240
    },
    "id": "e437c3d6",
    "outputId": "25a47913-2e47-4611-b6a6-2046b6719159"
   },
   "outputs": [],
   "source": [
    "# -- Compute and summarize flag_binge for sessions > 8 hours in watch_history_robust\n",
    "# This query identifies sessions with a total watch duration greater than 8 hours (480 minutes)\n",
    "# and calculates the count and percentage of such sessions.\n",
    "%%bigquery\n",
    "SELECT\n",
    "    COUNT(*) AS total_rows,\n",
    "    COUNTIF(watch_duration_minutes_capped > 480) AS binge_session_count,\n",
    "    ROUND(100 * COUNTIF(watch_duration_minutes_capped > 480) / COUNT(*), 2) AS pct_binge_sessions\n",
    "FROM `mgmt-467-4677.netflix.watch_history_robust`\n",
    "WHERE watch_duration_minutes_capped IS NOT NULL;"
   ]
  },
  {
   "cell_type": "code",
   "execution_count": null,
   "id": "d9c6bd6a",
   "metadata": {
    "colab": {
     "base_uri": "https://localhost:8080/",
     "height": 145,
     "referenced_widgets": [
      "6692d80f61a540d6ac2517a1f3eb8e3f",
      "bf47606b488446b29e29f1d974da197f",
      "af398d8597de4700881f4e2c14a6a276",
      "f1213327ed8c443aafd3feef800634fb",
      "797e056cfd2d4fdca31556548e3d33d8",
      "774ea86bdfc14e4c82f813250200f7fc",
      "e3ae3e0acce343f3b78b264db082f2fc",
      "89e648913f7f490195d9e0192676ba94",
      "ce052281b7484eaa8778e4668a1b02b6",
      "ddeef21d44964b22adf7c1ff917e11bb",
      "0a741c57fc8143b0a1e5f1c21d2ba369",
      "30173207aba643f4a02b512b239a6d23",
      "bf946884ec0d4c9daffd202e2fdcff56",
      "b62ba091f4c0451bbe29cd38647d848e",
      "772503f8ac534abf81aaf4fb702c2741",
      "4531f31c6e9d4e64be88cf33c1d5eae7",
      "ebbe2b0b05c2466695e8f3a1306d33d7",
      "27b393f4fcce408cb3003a240f373403",
      "946b825c279943e8b19a49e6a6d23c38",
      "c01a20542eed4c2eb668e214c4b9dd8e",
      "699226baef56486aadc858e409d1c2bf",
      "f4d766f286ed495cb6d354ce9523a2eb"
     ]
    },
    "executionInfo": {
     "elapsed": 2716,
     "status": "ok",
     "timestamp": 1760642437326,
     "user": {
      "displayName": "Leonard Chiu",
      "userId": "02396244503768992375"
     },
     "user_tz": 240
    },
    "id": "d9c6bd6a",
    "outputId": "2e1a1b74-ee4c-4a80-9816-5e2f66606e84"
   },
   "outputs": [],
   "source": [
    "# -- Compute and summarize flag_age_extreme if age < 10 or > 100 in users\n",
    "# This query identifies users with age values considered extreme (<10 or >100)\n",
    "# and calculates the count and percentage of such users.\n",
    "%%bigquery\n",
    "SELECT\n",
    "    COUNT(*) AS total_rows,\n",
    "    COUNTIF(age < 10 OR age > 100) AS extreme_age_count,\n",
    "    ROUND(100 * COUNTIF(age < 10 OR age > 100) / COUNT(*), 2) AS pct_extreme_age\n",
    "FROM `mgmt-467-4677.netflix.users`\n",
    "WHERE age IS NOT NULL;"
   ]
  },
  {
   "cell_type": "code",
   "execution_count": null,
   "id": "150e4aac",
   "metadata": {
    "colab": {
     "base_uri": "https://localhost:8080/",
     "height": 145,
     "referenced_widgets": [
      "00d97866103844c1a0f251804d802f6c",
      "39b73dd2f3a04c9b8f4d7804f3e09427",
      "1eb998b5aca4476bb80b2d9464747906",
      "2e6a89fbc1044f749c3a4eddb519cd10",
      "6ef05a0d83ab4118890e76953ec30348",
      "f7b0942f9e27460cb677cb08f76d986c",
      "83822be126344478b0222ca0be89a9c1",
      "28086e4c9c8f432fb4242f0f8c6124c8",
      "40cb3dc13d124d21a611b4033007ca7a",
      "854298aefa1342509bd586742516e0f2",
      "94d40ab8d0dc42a08ecc15ac39531ef9",
      "d265b4edc59f4e91bb9d1529223e49be",
      "debc272df648418faee1ca62025c0c5d",
      "9b5c1e92871647c69d9d0e5b2f5021a5",
      "d81bab28307544e6bb27d4f8e748f943",
      "5a6bef31a66042809deb0f3a3deec97c",
      "cf0b8a2b6a7040cc8a2255aaee1c4074",
      "819c7e7dd18649908a691f7b4eb89cf0",
      "91130b80594b4fa1a9ff39a7ac1c055d",
      "96b19b9911d74eda91df15250c923e7a",
      "e864fccac7784e28857675521c2f8a63",
      "759e6d7f99294edc8d10b61d725db385"
     ]
    },
    "executionInfo": {
     "elapsed": 2547,
     "status": "ok",
     "timestamp": 1760642451190,
     "user": {
      "displayName": "Leonard Chiu",
      "userId": "02396244503768992375"
     },
     "user_tz": 240
    },
    "id": "150e4aac",
    "outputId": "501496df-3fa5-4a66-d8b8-cb38f41a5059"
   },
   "outputs": [],
   "source": [
    "# -- Compute and summarize flag_duration_anomaly where duration_minutes < 15 or > 480 (if exists) in movies\n",
    "# This query identifies movies with duration outside the typical range (<15 or >480 minutes)\n",
    "# and calculates the count and percentage of such movies.\n",
    "%%bigquery\n",
    "SELECT\n",
    "    COUNT(*) AS total_rows,\n",
    "    COUNTIF(duration_minutes < 15 OR duration_minutes > 480) AS duration_anomaly_count,\n",
    "    ROUND(100 * COUNTIF(duration_minutes < 15 OR duration_minutes > 480) / COUNT(*), 2) AS pct_duration_anomaly\n",
    "FROM `mgmt-467-4677.netflix.movies`\n",
    "WHERE duration_minutes IS NOT NULL;"
   ]
  },
  {
   "cell_type": "markdown",
   "id": "0K_oGsWMjYti",
   "metadata": {
    "id": "0K_oGsWMjYti"
   },
   "source": [
    "### Verification Prompt\n",
    "Generate a single compact summary query that returns two columns per flag: `flag_name, pct_of_rows`.\n"
   ]
  },
  {
   "cell_type": "code",
   "execution_count": null,
   "id": "exTXsuk7eCDd",
   "metadata": {
    "colab": {
     "base_uri": "https://localhost:8080/",
     "height": 207,
     "referenced_widgets": [
      "04efd6aa1bd149b786219a69970ab437",
      "a47dd8f4d8264e9c972dce6a71f290e1",
      "55f75ec574c14274a74428df658318c1",
      "59eb4e1fb7434ac4b42027b6dde0cd9a",
      "ea04c10c86f34919ac8b4b8128e0ed78",
      "8333b42b741a480f93a3769af297c7a9",
      "dab53fb5de6040489c84a20dcd63779f",
      "9fe2512d2fbd4d3b8ca80f74009569b6",
      "eaf929ff5a174f1086fe8468f4a11962",
      "034f97759952416082c7e2ebd7651754",
      "87e1825a613e4317af63caa9aa110e60",
      "eaf84c5c759343b9bd242d70cf06cb8c",
      "b6b26ababfa14b529861c4de093bfb2f",
      "1a44b42725ae4cf79f673af98c5e0a57",
      "f76fdca4325644e292304e6a26056f31",
      "bb790f241ead4ae6a2ed929f144aa358",
      "c0461e0a7edb4b3cb4c6d23dde19719e",
      "31d8f5808d2f42178f00d70687f69d5d",
      "660341ed920a4912a893d400db03faaf",
      "f2610f25598c48a382dcd4e8efff1a03",
      "7fee12cb711347ed90d102603ad3749a",
      "f2ec4b78edd64abba9fe68d1a962ade4"
     ]
    },
    "executionInfo": {
     "elapsed": 2149,
     "status": "ok",
     "timestamp": 1760642477409,
     "user": {
      "displayName": "Leonard Chiu",
      "userId": "02396244503768992375"
     },
     "user_tz": 240
    },
    "id": "exTXsuk7eCDd",
    "outputId": "b2e46bef-4a97-4743-fb14-1cae9ea033f9"
   },
   "outputs": [],
   "source": [
    "# Verification query: Generate a single compact summary query that returns two columns per flag: flag_name, pct_of_rows.\n",
    "# This query combines the results of the anomaly flag calculations into a single summary table.\n",
    "%%bigquery\n",
    "SELECT\n",
    "    'flag_binge' AS flag_name,\n",
    "    ROUND(100 * COUNTIF(watch_duration_minutes_capped > 480) / COUNT(*), 2) AS pct_of_rows\n",
    "FROM `mgmt-467-4677.netflix.watch_history_robust`\n",
    "WHERE watch_duration_minutes_capped IS NOT NULL\n",
    "UNION ALL\n",
    "SELECT\n",
    "    'flag_age_extreme' AS flag_name,\n",
    "    ROUND(100 * COUNTIF(age < 10 OR age > 100) / COUNT(*), 2) AS pct_of_rows\n",
    "FROM `mgmt-467-4677.netflix.users`\n",
    "WHERE age IS NOT NULL\n",
    "UNION ALL\n",
    "SELECT\n",
    "    'flag_duration_anomaly' AS flag_name,\n",
    "    ROUND(100 * COUNTIF(duration_minutes < 15 OR duration_minutes > 480) / COUNT(*), 2) AS pct_of_rows\n",
    "FROM `mgmt-467-4677.netflix.movies`\n",
    "WHERE duration_minutes IS NOT NULL;"
   ]
  },
  {
   "cell_type": "markdown",
   "id": "cNWyNrksjYti",
   "metadata": {
    "id": "cNWyNrksjYti"
   },
   "source": [
    "**Reflection:** Which anomaly flag is most common? Which would you keep as a feature and why?"
   ]
  },
  {
   "cell_type": "markdown",
   "id": "ry6rNWKRiTo2",
   "metadata": {
    "id": "ry6rNWKRiTo2"
   },
   "source": [
    "Based on the summary in cell exTXsuk7eCDd, the flag_duration_anomaly is the most common anomaly flag (2.21%), followed by flag_age_extreme (1.97%). The flag_binge is not present in this dataset (0.00%).\n",
    "\n",
    "Regarding which flag to keep as a feature, it depends on the business problem you are trying to solve. However, both flag_age_extreme and flag_duration_anomaly could be potentially useful features for a machine learning model:\n",
    "\n",
    "flag_age_extreme: Users with extreme ages might exhibit different viewing behaviors or content preferences. This flag could be valuable for targeted content recommendations or marketing campaigns.\n",
    "flag_duration_anomaly: Movies with unusually short or long durations might also appeal to different audience segments. This flag could be useful in content recommendation models or for identifying potential data entry errors in the movie catalog.\n",
    "I would likely keep both flag_age_extreme and flag_duration_anomaly as features because they identify potentially distinct user and content characteristics that could be predictive of user behavior. The flag_binge is not present in this dataset, so it would not be a useful feature here, but in a dataset with binge-watching behavior, it could be a strong indicator for engagement or churn prediction.\n",
    "\n",
    "The decision to keep a flag as a feature should always be guided by its potential relevance to the specific business or machine learning objective.\n",
    "\n"
   ]
  },
  {
   "cell_type": "markdown",
   "id": "naOq1RQZjYti",
   "metadata": {
    "id": "naOq1RQZjYti"
   },
   "source": [
    "## 6) Save & submit — What & Why\n",
    "Reproducibility: save artifacts and document decisions so others can rerun and audit."
   ]
  },
  {
   "cell_type": "markdown",
   "id": "zOUQhJTtjYti",
   "metadata": {
    "id": "zOUQhJTtjYti"
   },
   "source": [
    "### Build Prompt\n",
    "Generate a checklist (Markdown) students can paste at the end:\n",
    "- Save this notebook to the team Drive.\n",
    "- Export a `.sql` file with your DQ queries and save to repo.\n",
    "- Push notebook + SQL to the **team GitHub** with a descriptive commit.\n",
    "- Add a README with your `PROJECT_ID`, `REGION`, bucket, dataset, and today’s row counts.\n"
   ]
  },
  {
   "cell_type": "markdown",
   "id": "PcQV67BxjYti",
   "metadata": {
    "id": "PcQV67BxjYti"
   },
   "source": [
    "## Grading rubric (quick)\n",
    "- Profiling completeness (30)  \n",
    "- Cleaning policy correctness & reproducibility (40)  \n",
    "- Reflection/insight (20)  \n",
    "- Hygiene (naming, verification, idempotence) (10)\n"
   ]
  },
  {
   "cell_type": "code",
   "execution_count": null,
   "id": "eWegEeLowFnX",
   "metadata": {
    "colab": {
     "base_uri": "https://localhost:8080/"
    },
    "executionInfo": {
     "elapsed": 7147,
     "status": "ok",
     "timestamp": 1761502857645,
     "user": {
      "displayName": "Leonard Chiu",
      "userId": "02396244503768992375"
     },
     "user_tz": 240
    },
    "id": "eWegEeLowFnX",
    "outputId": "b8e1d04f-2b6a-47d9-a8f2-71715bc373b2"
   },
   "outputs": [],
   "source": [
    "!jupyter nbconvert --ClearMetadataPreprocessor.enabled=True --inplace your_notebook.ipynb\n"
   ]
  }
 ],
 "metadata": {
  "colab": {
   "provenance": []
  },
  "kernelspec": {
   "display_name": "Python 3",
   "name": "python3"
  }
 },
 "nbformat": 4,
 "nbformat_minor": 5
}
