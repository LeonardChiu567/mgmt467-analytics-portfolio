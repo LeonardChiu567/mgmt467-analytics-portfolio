{
  "cells": [
    {
      "cell_type": "markdown",
      "id": "5869f3af",
      "metadata": {
        "id": "5869f3af"
      },
      "source": [
        "# 📊 MGMT 467 - Unit 2 Lab 2: Churn Modeling with BigQueryML + Feature Engineering\n",
        "**Date:** 2025-10-16\n",
        "\n",
        "In this lab you will:\n",
        "- Connect to BigQuery from Colab\n",
        "- Create features and labels\n",
        "- Engineer new features from user behavior\n",
        "- Train and evaluate logistic regression models\n",
        "- Reflect on modeling assumptions and interpret results"
      ]
    },
    {
      "cell_type": "code",
      "execution_count": 1,
      "id": "305da483",
      "metadata": {
        "colab": {
          "base_uri": "https://localhost:8080/"
        },
        "id": "305da483",
        "outputId": "78c8e1f5-2666-42cf-cb56-ed5bc7043193"
      },
      "outputs": [
        {
          "output_type": "stream",
          "name": "stdout",
          "text": [
            "Updated property [core/project].\n"
          ]
        }
      ],
      "source": [
        "# ✅ Authenticate and set up GCP project\n",
        "from google.colab import auth\n",
        "auth.authenticate_user()\n",
        "\n",
        "project_id = \"mgmt-467-4677\"  # <-- Replace with your actual project ID\n",
        "!gcloud config set project $project_id"
      ]
    },
    {
      "cell_type": "code",
      "execution_count": 2,
      "id": "08a79119",
      "metadata": {
        "colab": {
          "base_uri": "https://localhost:8080/",
          "height": 145,
          "referenced_widgets": [
            "a587d44fb8b24a2ca64feacd3ba25f73",
            "f27a17f1c0c84e9ca51c7a67da22f149",
            "2f364be17c92431b8dc005a6ef75b9ae",
            "fb5e7b9491494708a8c554d3b1fb913c",
            "a418d429915a4beb87af481f0090a3e0",
            "af624aec28454f9dad231c4afca3189e",
            "04f16df8383a4572bc6481111a87f83f",
            "804f229594474e2ab9885670813682bd",
            "7c3be05b901c4e4ea8a636e080e62543",
            "87375c2e76254b2f8d833d7857d30602",
            "cbe5991134054c0bb2f0af403f37956e",
            "cf762a38e81444c8ac8113a73458f9e9",
            "0f5813289b5d44838c51fbed852a5bd7",
            "b8cf97b0c8234c83ad062d184815e8d2",
            "727880e44beb428b86e0f99aa15f5142",
            "4bddc608aa7742d3b53f401a7d607293",
            "f788e1294e854b9cb695f2cdc9540189",
            "3b4415c6083045e091a218a0bb202298",
            "18af16d0c8514bb3b668627e9e6364e5",
            "f68f906f1fb242ecb60e59867292bc4a",
            "ff42590050d949319f06917182044236",
            "bbf732af60704e2c8fb17e2084bcfc1e"
          ]
        },
        "id": "08a79119",
        "outputId": "f0273776-9d39-46e6-c455-e2ef32027706"
      },
      "outputs": [
        {
          "output_type": "display_data",
          "data": {
            "text/plain": [
              "Query is running:   0%|          |"
            ],
            "application/vnd.jupyter.widget-view+json": {
              "version_major": 2,
              "version_minor": 0,
              "model_id": "a587d44fb8b24a2ca64feacd3ba25f73"
            }
          },
          "metadata": {}
        },
        {
          "output_type": "display_data",
          "data": {
            "text/plain": [
              "Downloading:   0%|          |"
            ],
            "application/vnd.jupyter.widget-view+json": {
              "version_major": 2,
              "version_minor": 0,
              "model_id": "cf762a38e81444c8ac8113a73458f9e9"
            }
          },
          "metadata": {}
        },
        {
          "output_type": "execute_result",
          "data": {
            "text/plain": [
              "        today                 user\n",
              "0  2025-10-26  lencalpha@gmail.com"
            ],
            "text/html": [
              "\n",
              "  <div id=\"df-471fdfcf-534c-4923-affb-017da2300fc6\" class=\"colab-df-container\">\n",
              "    <div>\n",
              "<style scoped>\n",
              "    .dataframe tbody tr th:only-of-type {\n",
              "        vertical-align: middle;\n",
              "    }\n",
              "\n",
              "    .dataframe tbody tr th {\n",
              "        vertical-align: top;\n",
              "    }\n",
              "\n",
              "    .dataframe thead th {\n",
              "        text-align: right;\n",
              "    }\n",
              "</style>\n",
              "<table border=\"1\" class=\"dataframe\">\n",
              "  <thead>\n",
              "    <tr style=\"text-align: right;\">\n",
              "      <th></th>\n",
              "      <th>today</th>\n",
              "      <th>user</th>\n",
              "    </tr>\n",
              "  </thead>\n",
              "  <tbody>\n",
              "    <tr>\n",
              "      <th>0</th>\n",
              "      <td>2025-10-26</td>\n",
              "      <td>lencalpha@gmail.com</td>\n",
              "    </tr>\n",
              "  </tbody>\n",
              "</table>\n",
              "</div>\n",
              "    <div class=\"colab-df-buttons\">\n",
              "\n",
              "  <div class=\"colab-df-container\">\n",
              "    <button class=\"colab-df-convert\" onclick=\"convertToInteractive('df-471fdfcf-534c-4923-affb-017da2300fc6')\"\n",
              "            title=\"Convert this dataframe to an interactive table.\"\n",
              "            style=\"display:none;\">\n",
              "\n",
              "  <svg xmlns=\"http://www.w3.org/2000/svg\" height=\"24px\" viewBox=\"0 -960 960 960\">\n",
              "    <path d=\"M120-120v-720h720v720H120Zm60-500h600v-160H180v160Zm220 220h160v-160H400v160Zm0 220h160v-160H400v160ZM180-400h160v-160H180v160Zm440 0h160v-160H620v160ZM180-180h160v-160H180v160Zm440 0h160v-160H620v160Z\"/>\n",
              "  </svg>\n",
              "    </button>\n",
              "\n",
              "  <style>\n",
              "    .colab-df-container {\n",
              "      display:flex;\n",
              "      gap: 12px;\n",
              "    }\n",
              "\n",
              "    .colab-df-convert {\n",
              "      background-color: #E8F0FE;\n",
              "      border: none;\n",
              "      border-radius: 50%;\n",
              "      cursor: pointer;\n",
              "      display: none;\n",
              "      fill: #1967D2;\n",
              "      height: 32px;\n",
              "      padding: 0 0 0 0;\n",
              "      width: 32px;\n",
              "    }\n",
              "\n",
              "    .colab-df-convert:hover {\n",
              "      background-color: #E2EBFA;\n",
              "      box-shadow: 0px 1px 2px rgba(60, 64, 67, 0.3), 0px 1px 3px 1px rgba(60, 64, 67, 0.15);\n",
              "      fill: #174EA6;\n",
              "    }\n",
              "\n",
              "    .colab-df-buttons div {\n",
              "      margin-bottom: 4px;\n",
              "    }\n",
              "\n",
              "    [theme=dark] .colab-df-convert {\n",
              "      background-color: #3B4455;\n",
              "      fill: #D2E3FC;\n",
              "    }\n",
              "\n",
              "    [theme=dark] .colab-df-convert:hover {\n",
              "      background-color: #434B5C;\n",
              "      box-shadow: 0px 1px 3px 1px rgba(0, 0, 0, 0.15);\n",
              "      filter: drop-shadow(0px 1px 2px rgba(0, 0, 0, 0.3));\n",
              "      fill: #FFFFFF;\n",
              "    }\n",
              "  </style>\n",
              "\n",
              "    <script>\n",
              "      const buttonEl =\n",
              "        document.querySelector('#df-471fdfcf-534c-4923-affb-017da2300fc6 button.colab-df-convert');\n",
              "      buttonEl.style.display =\n",
              "        google.colab.kernel.accessAllowed ? 'block' : 'none';\n",
              "\n",
              "      async function convertToInteractive(key) {\n",
              "        const element = document.querySelector('#df-471fdfcf-534c-4923-affb-017da2300fc6');\n",
              "        const dataTable =\n",
              "          await google.colab.kernel.invokeFunction('convertToInteractive',\n",
              "                                                    [key], {});\n",
              "        if (!dataTable) return;\n",
              "\n",
              "        const docLinkHtml = 'Like what you see? Visit the ' +\n",
              "          '<a target=\"_blank\" href=https://colab.research.google.com/notebooks/data_table.ipynb>data table notebook</a>'\n",
              "          + ' to learn more about interactive tables.';\n",
              "        element.innerHTML = '';\n",
              "        dataTable['output_type'] = 'display_data';\n",
              "        await google.colab.output.renderOutput(dataTable, element);\n",
              "        const docLink = document.createElement('div');\n",
              "        docLink.innerHTML = docLinkHtml;\n",
              "        element.appendChild(docLink);\n",
              "      }\n",
              "    </script>\n",
              "  </div>\n",
              "\n",
              "\n",
              "    </div>\n",
              "  </div>\n"
            ],
            "application/vnd.google.colaboratory.intrinsic+json": {
              "type": "dataframe",
              "summary": "{\n  \"name\": \"get_ipython()\",\n  \"rows\": 1,\n  \"fields\": [\n    {\n      \"column\": \"today\",\n      \"properties\": {\n        \"dtype\": \"dbdate\",\n        \"num_unique_values\": 1,\n        \"samples\": [\n          \"2025-10-26\"\n        ],\n        \"semantic_type\": \"\",\n        \"description\": \"\"\n      }\n    },\n    {\n      \"column\": \"user\",\n      \"properties\": {\n        \"dtype\": \"string\",\n        \"num_unique_values\": 1,\n        \"samples\": [\n          \"lencalpha@gmail.com\"\n        ],\n        \"semantic_type\": \"\",\n        \"description\": \"\"\n      }\n    }\n  ]\n}"
            }
          },
          "metadata": {},
          "execution_count": 2
        }
      ],
      "source": [
        "# ✅ Verify BigQuery access\n",
        "%%bigquery --project $project_id\n",
        "SELECT CURRENT_DATE() AS today, SESSION_USER() AS user"
      ]
    },
    {
      "cell_type": "code",
      "execution_count": 10,
      "id": "4ef5701f",
      "metadata": {
        "colab": {
          "base_uri": "https://localhost:8080/"
        },
        "id": "4ef5701f",
        "outputId": "9d76bfd4-6303-4992-b812-fe70b51b16fe"
      },
      "outputs": [
        {
          "output_type": "stream",
          "name": "stdout",
          "text": [
            "Executing query with job ID: 5f893c8b-2876-4190-950c-baa21b2802f4\n",
            "\rQuery executing: 0.26s"
          ]
        },
        {
          "output_type": "stream",
          "name": "stderr",
          "text": [
            "\n",
            "ERROR:\n",
            " 400 Table \"netflix\" must be qualified with a dataset (e.g. dataset.table).; reason: invalid, location: netflix, message: Table \"netflix\" must be qualified with a dataset (e.g. dataset.table).\n",
            "\n",
            "Location: US\n",
            "Job ID: 5f893c8b-2876-4190-950c-baa21b2802f4\n",
            "\n"
          ]
        }
      ],
      "source": [
        "# ✅ Prepare base churn features\n",
        "%%bigquery --project $project_id\n",
        "CREATE OR REPLACE TABLE `netflix` AS\n",
        "SELECT\n",
        "  user_id,\n",
        "  region,\n",
        "  plan_tier,\n",
        "  age_band,\n",
        "  avg_rating,\n",
        "  total_minutes,\n",
        "  avg_progress,\n",
        "  num_sessions,\n",
        "  churn_label\n",
        "FROM `netflix.cleaned_features`\n",
        "WHERE churn_label IS NOT NULL;"
      ]
    },
    {
      "cell_type": "code",
      "execution_count": 4,
      "id": "a3ce2cc5",
      "metadata": {
        "id": "a3ce2cc5",
        "colab": {
          "base_uri": "https://localhost:8080/"
        },
        "outputId": "d0d1add1-1f80-4c80-be03-1e1cb4d6e499"
      },
      "outputs": [
        {
          "output_type": "stream",
          "name": "stdout",
          "text": [
            "Executing query with job ID: 0d910539-f061-42ef-aade-eaac7db29410\n",
            "\rQuery executing: 0.23s"
          ]
        },
        {
          "output_type": "stream",
          "name": "stderr",
          "text": [
            "\n",
            "ERROR:\n",
            " 404 Not found: Dataset mgmt-467-4677:your_dataset was not found in location US; reason: notFound, message: Not found: Dataset mgmt-467-4677:your_dataset was not found in location US\n",
            "\n",
            "Location: US\n",
            "Job ID: 0d910539-f061-42ef-aade-eaac7db29410\n",
            "\n"
          ]
        }
      ],
      "source": [
        "# ✅ Train base logistic regression model\n",
        "%%bigquery --project $project_id\n",
        "CREATE OR REPLACE MODEL `your_dataset.churn_model`\n",
        "OPTIONS(model_type='logistic_reg') AS\n",
        "SELECT\n",
        "  region,\n",
        "  plan_tier,\n",
        "  age_band,\n",
        "  avg_rating,\n",
        "  total_minutes,\n",
        "  avg_progress,\n",
        "  num_sessions,\n",
        "  churn_label\n",
        "FROM `your_dataset.churn_features`;"
      ]
    },
    {
      "cell_type": "code",
      "execution_count": 5,
      "id": "69fc3475",
      "metadata": {
        "id": "69fc3475",
        "colab": {
          "base_uri": "https://localhost:8080/"
        },
        "outputId": "2e272407-d907-4801-b912-96d3f40f7da3"
      },
      "outputs": [
        {
          "output_type": "stream",
          "name": "stdout",
          "text": [
            "Executing query with job ID: 6823eb0a-1070-400d-8065-d30efc848c71\n",
            "\rQuery executing: 0.57s"
          ]
        },
        {
          "output_type": "stream",
          "name": "stderr",
          "text": [
            "\n",
            "ERROR:\n",
            " 404 Not found: Dataset mgmt-467-4677:your_dataset was not found in location US; reason: notFound, message: Not found: Dataset mgmt-467-4677:your_dataset was not found in location US\n",
            "\n",
            "Location: US\n",
            "Job ID: 6823eb0a-1070-400d-8065-d30efc848c71\n",
            "\n"
          ]
        }
      ],
      "source": [
        "# ✅ Evaluate base model\n",
        "%%bigquery --project $project_id\n",
        "SELECT *\n",
        "FROM ML.EVALUATE(MODEL `your_dataset.churn_model`);"
      ]
    },
    {
      "cell_type": "code",
      "execution_count": 6,
      "id": "ddceee25",
      "metadata": {
        "id": "ddceee25",
        "colab": {
          "base_uri": "https://localhost:8080/"
        },
        "outputId": "84e47a7a-6486-4e97-8d61-1c4dda4a62e3"
      },
      "outputs": [
        {
          "output_type": "stream",
          "name": "stdout",
          "text": [
            "Executing query with job ID: 39c5b3b0-24ae-48cb-8673-a0b4d7f9f055\n",
            "\rQuery executing: 0.37s"
          ]
        },
        {
          "output_type": "stream",
          "name": "stderr",
          "text": [
            "\n",
            "ERROR:\n",
            " 404 Not found: Dataset mgmt-467-4677:your_dataset was not found in location US; reason: notFound, message: Not found: Dataset mgmt-467-4677:your_dataset was not found in location US\n",
            "\n",
            "Location: US\n",
            "Job ID: 39c5b3b0-24ae-48cb-8673-a0b4d7f9f055\n",
            "\n"
          ]
        }
      ],
      "source": [
        "# ✅ Predict churn with base model\n",
        "%%bigquery --project $project_id\n",
        "SELECT\n",
        "  user_id,\n",
        "  predicted_churn_label,\n",
        "  predicted_churn_label_probs\n",
        "FROM ML.PREDICT(MODEL `your_dataset.churn_model`,\n",
        "                (SELECT * FROM `your_dataset.churn_features`));"
      ]
    },
    {
      "cell_type": "markdown",
      "id": "3718b255",
      "metadata": {
        "id": "3718b255"
      },
      "source": [
        "\n",
        "## 🛠️ Feature Engineering Section\n",
        "\n",
        "We will now engineer new features to improve model performance:\n",
        "\n",
        "- Bucket continuous variables\n",
        "- Create interaction terms\n",
        "- Add behavioral flags\n"
      ]
    },
    {
      "cell_type": "code",
      "execution_count": 7,
      "id": "272f675d",
      "metadata": {
        "id": "272f675d",
        "colab": {
          "base_uri": "https://localhost:8080/"
        },
        "outputId": "9ffeda8b-049b-4658-b5be-93aaa2836584"
      },
      "outputs": [
        {
          "output_type": "stream",
          "name": "stdout",
          "text": [
            "Executing query with job ID: e9c9c19f-2e3f-4fa8-909b-5d2ceec30c98\n",
            "\rQuery executing: 0.39s"
          ]
        },
        {
          "output_type": "stream",
          "name": "stderr",
          "text": [
            "\n",
            "ERROR:\n",
            " 404 Not found: Dataset mgmt-467-4677:your_dataset was not found in location US; reason: notFound, message: Not found: Dataset mgmt-467-4677:your_dataset was not found in location US\n",
            "\n",
            "Location: US\n",
            "Job ID: e9c9c19f-2e3f-4fa8-909b-5d2ceec30c98\n",
            "\n"
          ]
        }
      ],
      "source": [
        "\n",
        "# ✅ Create enhanced feature set\n",
        "%%bigquery --project $project_id\n",
        "CREATE OR REPLACE TABLE `your_dataset.churn_features_enhanced` AS\n",
        "SELECT\n",
        "  user_id,\n",
        "  region,\n",
        "  plan_tier,\n",
        "  age_band,\n",
        "  avg_rating,\n",
        "  total_minutes,\n",
        "  CASE\n",
        "    WHEN total_minutes < 100 THEN 'low'\n",
        "    WHEN total_minutes BETWEEN 100 AND 300 THEN 'medium'\n",
        "    ELSE 'high'\n",
        "  END AS watch_time_bucket,\n",
        "  avg_progress,\n",
        "  num_sessions,\n",
        "  CONCAT(plan_tier, '_', region) AS plan_region_combo,\n",
        "  IF(total_minutes > 500, 1, 0) AS flag_binge,\n",
        "  churn_label\n",
        "FROM `your_dataset.churn_features`;\n"
      ]
    },
    {
      "cell_type": "code",
      "execution_count": 8,
      "id": "07d70fe5",
      "metadata": {
        "id": "07d70fe5",
        "colab": {
          "base_uri": "https://localhost:8080/"
        },
        "outputId": "46e4c650-badc-4036-de9a-28d335edcfda"
      },
      "outputs": [
        {
          "output_type": "stream",
          "name": "stdout",
          "text": [
            "Executing query with job ID: 4e59dcfc-c151-42e9-bf1a-7cf81b31c78c\n",
            "\rQuery executing: 0.19s"
          ]
        },
        {
          "output_type": "stream",
          "name": "stderr",
          "text": [
            "\n",
            "ERROR:\n",
            " 404 Not found: Dataset mgmt-467-4677:your_dataset was not found in location US; reason: notFound, message: Not found: Dataset mgmt-467-4677:your_dataset was not found in location US\n",
            "\n",
            "Location: US\n",
            "Job ID: 4e59dcfc-c151-42e9-bf1a-7cf81b31c78c\n",
            "\n"
          ]
        }
      ],
      "source": [
        "\n",
        "# ✅ Train enhanced model\n",
        "%%bigquery --project $project_id\n",
        "CREATE OR REPLACE MODEL `your_dataset.churn_model_enhanced`\n",
        "OPTIONS(model_type='logistic_reg') AS\n",
        "SELECT\n",
        "  region,\n",
        "  plan_tier,\n",
        "  age_band,\n",
        "  watch_time_bucket,\n",
        "  avg_rating,\n",
        "  avg_progress,\n",
        "  num_sessions,\n",
        "  plan_region_combo,\n",
        "  flag_binge,\n",
        "  churn_label\n",
        "FROM `your_dataset.churn_features_enhanced`;\n"
      ]
    },
    {
      "cell_type": "code",
      "execution_count": 9,
      "id": "423b6d00",
      "metadata": {
        "id": "423b6d00",
        "colab": {
          "base_uri": "https://localhost:8080/"
        },
        "outputId": "54bbf99c-6214-42d2-b033-9cd305fffeed"
      },
      "outputs": [
        {
          "output_type": "stream",
          "name": "stdout",
          "text": [
            "Executing query with job ID: 17886016-116b-4842-ae2f-ddd88d9b5d37\n",
            "\rQuery executing: 0.45s"
          ]
        },
        {
          "output_type": "stream",
          "name": "stderr",
          "text": [
            "\n",
            "ERROR:\n",
            " 404 Not found: Dataset mgmt-467-4677:your_dataset was not found in location US; reason: notFound, message: Not found: Dataset mgmt-467-4677:your_dataset was not found in location US\n",
            "\n",
            "Location: US\n",
            "Job ID: 17886016-116b-4842-ae2f-ddd88d9b5d37\n",
            "\n"
          ]
        }
      ],
      "source": [
        "\n",
        "# ✅ Evaluate enhanced model\n",
        "%%bigquery --project $project_id\n",
        "SELECT *\n",
        "FROM ML.EVALUATE(MODEL `your_dataset.churn_model_enhanced`);\n"
      ]
    },
    {
      "cell_type": "markdown",
      "id": "bc1a207f",
      "metadata": {
        "id": "bc1a207f"
      },
      "source": [
        "\n",
        "## 🤔 Chain-of-Thought Prompts: Feature Engineering\n",
        "\n",
        "### 1. Why bucket continuous values like watch time?\n",
        "- What patterns become clearer by using categories like \"low\", \"medium\", \"high\"?\n",
        "\n",
        "\n",
        "\n",
        "### 2. What value do interaction terms (e.g., `plan_tier_region`) add?\n",
        "- Could some plans behave differently in different regions?\n",
        "\n",
        "### 3. What’s the purpose of binary flags like `flag_binge`?\n",
        "- Can these capture unique behaviors not reflected in raw totals?\n",
        "\n",
        "### 4. After evaluating the enhanced model:\n",
        "- Which new features helped the most?\n",
        "- Did any surprise you?\n",
        "\n",
        "✍️ Write your responses in a text cell below or in a shared doc for discussion.\n"
      ]
    },
    {
      "cell_type": "markdown",
      "metadata": {
        "id": "48b26492"
      },
      "source": [
        "## 🤔 Chain-of-Thought Prompts: Feature Engineering\n",
        "\n",
        "### 1. Why bucket continuous values like watch time?\n",
        "- What patterns become clearer by using categories like \"low\", \"medium\", \"high\"?\n",
        "\n",
        "What patterns become clearer by using categories like \"low\", \"medium\", \"high\"?\n",
        "Bucketing continuous variables like watch time into categories such as \"low,\" \"medium,\" and \"high\" can help simplify the relationship between the feature and the target variable (churn). It can make patterns clearer by:\n",
        "\n",
        "Reducing noise: Grouping data into buckets can smooth out minor variations in watch time that might not be significant individually.\n",
        "Highlighting non-linear relationships: The relationship between watch time and churn might not be linear. Bucketing can capture these non-linearities by treating different ranges of watch time differently.\n",
        "Improving interpretability: Categories like \"low,\" \"medium,\" and \"high\" are often easier to understand and communicate than raw continuous values.\n",
        "Handling outliers: Extreme values in watch time can have less impact when they are grouped into a bucket.\n",
        "For example, you might find that users with \"low\" watch time have a high churn rate, while those with \"medium\" watch time have a lower churn rate, and those with \"high\" watch time have a moderate churn rate. This non-linear pattern would be harder to see with a continuous watch time variable.\n",
        "\n",
        "### 2. What value do interaction terms (e.g., `plan_tier_region`) add?\n",
        "- Could some plans behave differently in different regions?\n",
        "\n",
        "Interaction terms like `plan_tier_region` can add value by capturing how the effect of one feature depends on the value of another feature. In this case, it can show if the churn rate associated with a particular plan tier is different across different regions. For example, a premium plan might have a low churn rate in one region but a higher churn rate in another due to local competition or cultural factors. This interaction effect might not be apparent if you only look at `plan_tier` and `region` independently.\n",
        "\n",
        "### 3. What’s the purpose of binary flags like `flag_binge`?\n",
        "- Can these capture unique behaviors not reflected in raw totals?\n",
        "\n",
        "Binary flags like `flag_binge` (indicating if a user has watched over 500 minutes) are useful for highlighting specific behaviors that might be strongly associated with churn, but are not simply a linear function of the raw total. For example, \"binge-watching\" might be a distinct behavior pattern that indicates a highly engaged user who is less likely to churn, or it could indicate a user who is consuming content rapidly and might soon exhaust available content, leading to churn. A simple total minutes watched might not capture this nuanced behavior as effectively as a dedicated flag.\n",
        "\n",
        "### 4. After evaluating the enhanced model:\n",
        "- Which new features helped the most?\n",
        "- Did any surprise you?\n",
        "\n",
        "✍️ Write your responses in a text cell below or in a shared doc for discussion."
      ],
      "id": "48b26492"
    }
  ],
  "metadata": {
    "colab": {
      "provenance": []
    },
    "language_info": {
      "name": "python"
    },
    "kernelspec": {
      "name": "python3",
      "display_name": "Python 3"
    },
    "widgets": {
      "application/vnd.jupyter.widget-state+json": {
        "a587d44fb8b24a2ca64feacd3ba25f73": {
          "model_module": "@jupyter-widgets/controls",
          "model_name": "HBoxModel",
          "model_module_version": "1.5.0",
          "state": {
            "_dom_classes": [],
            "_model_module": "@jupyter-widgets/controls",
            "_model_module_version": "1.5.0",
            "_model_name": "HBoxModel",
            "_view_count": null,
            "_view_module": "@jupyter-widgets/controls",
            "_view_module_version": "1.5.0",
            "_view_name": "HBoxView",
            "box_style": "",
            "children": [
              "IPY_MODEL_f27a17f1c0c84e9ca51c7a67da22f149",
              "IPY_MODEL_2f364be17c92431b8dc005a6ef75b9ae",
              "IPY_MODEL_fb5e7b9491494708a8c554d3b1fb913c"
            ],
            "layout": "IPY_MODEL_a418d429915a4beb87af481f0090a3e0"
          }
        },
        "f27a17f1c0c84e9ca51c7a67da22f149": {
          "model_module": "@jupyter-widgets/controls",
          "model_name": "HTMLModel",
          "model_module_version": "1.5.0",
          "state": {
            "_dom_classes": [],
            "_model_module": "@jupyter-widgets/controls",
            "_model_module_version": "1.5.0",
            "_model_name": "HTMLModel",
            "_view_count": null,
            "_view_module": "@jupyter-widgets/controls",
            "_view_module_version": "1.5.0",
            "_view_name": "HTMLView",
            "description": "",
            "description_tooltip": null,
            "layout": "IPY_MODEL_af624aec28454f9dad231c4afca3189e",
            "placeholder": "​",
            "style": "IPY_MODEL_04f16df8383a4572bc6481111a87f83f",
            "value": "Job ID 4988d8df-c494-4550-911a-a25a04f9cafe successfully executed: 100%"
          }
        },
        "2f364be17c92431b8dc005a6ef75b9ae": {
          "model_module": "@jupyter-widgets/controls",
          "model_name": "FloatProgressModel",
          "model_module_version": "1.5.0",
          "state": {
            "_dom_classes": [],
            "_model_module": "@jupyter-widgets/controls",
            "_model_module_version": "1.5.0",
            "_model_name": "FloatProgressModel",
            "_view_count": null,
            "_view_module": "@jupyter-widgets/controls",
            "_view_module_version": "1.5.0",
            "_view_name": "ProgressView",
            "bar_style": "success",
            "description": "",
            "description_tooltip": null,
            "layout": "IPY_MODEL_804f229594474e2ab9885670813682bd",
            "max": 1,
            "min": 0,
            "orientation": "horizontal",
            "style": "IPY_MODEL_7c3be05b901c4e4ea8a636e080e62543",
            "value": 1
          }
        },
        "fb5e7b9491494708a8c554d3b1fb913c": {
          "model_module": "@jupyter-widgets/controls",
          "model_name": "HTMLModel",
          "model_module_version": "1.5.0",
          "state": {
            "_dom_classes": [],
            "_model_module": "@jupyter-widgets/controls",
            "_model_module_version": "1.5.0",
            "_model_name": "HTMLModel",
            "_view_count": null,
            "_view_module": "@jupyter-widgets/controls",
            "_view_module_version": "1.5.0",
            "_view_name": "HTMLView",
            "description": "",
            "description_tooltip": null,
            "layout": "IPY_MODEL_87375c2e76254b2f8d833d7857d30602",
            "placeholder": "​",
            "style": "IPY_MODEL_cbe5991134054c0bb2f0af403f37956e",
            "value": ""
          }
        },
        "a418d429915a4beb87af481f0090a3e0": {
          "model_module": "@jupyter-widgets/base",
          "model_name": "LayoutModel",
          "model_module_version": "1.2.0",
          "state": {
            "_model_module": "@jupyter-widgets/base",
            "_model_module_version": "1.2.0",
            "_model_name": "LayoutModel",
            "_view_count": null,
            "_view_module": "@jupyter-widgets/base",
            "_view_module_version": "1.2.0",
            "_view_name": "LayoutView",
            "align_content": null,
            "align_items": null,
            "align_self": null,
            "border": null,
            "bottom": null,
            "display": null,
            "flex": null,
            "flex_flow": null,
            "grid_area": null,
            "grid_auto_columns": null,
            "grid_auto_flow": null,
            "grid_auto_rows": null,
            "grid_column": null,
            "grid_gap": null,
            "grid_row": null,
            "grid_template_areas": null,
            "grid_template_columns": null,
            "grid_template_rows": null,
            "height": null,
            "justify_content": null,
            "justify_items": null,
            "left": null,
            "margin": null,
            "max_height": null,
            "max_width": null,
            "min_height": null,
            "min_width": null,
            "object_fit": null,
            "object_position": null,
            "order": null,
            "overflow": null,
            "overflow_x": null,
            "overflow_y": null,
            "padding": null,
            "right": null,
            "top": null,
            "visibility": null,
            "width": null
          }
        },
        "af624aec28454f9dad231c4afca3189e": {
          "model_module": "@jupyter-widgets/base",
          "model_name": "LayoutModel",
          "model_module_version": "1.2.0",
          "state": {
            "_model_module": "@jupyter-widgets/base",
            "_model_module_version": "1.2.0",
            "_model_name": "LayoutModel",
            "_view_count": null,
            "_view_module": "@jupyter-widgets/base",
            "_view_module_version": "1.2.0",
            "_view_name": "LayoutView",
            "align_content": null,
            "align_items": null,
            "align_self": null,
            "border": null,
            "bottom": null,
            "display": null,
            "flex": null,
            "flex_flow": null,
            "grid_area": null,
            "grid_auto_columns": null,
            "grid_auto_flow": null,
            "grid_auto_rows": null,
            "grid_column": null,
            "grid_gap": null,
            "grid_row": null,
            "grid_template_areas": null,
            "grid_template_columns": null,
            "grid_template_rows": null,
            "height": null,
            "justify_content": null,
            "justify_items": null,
            "left": null,
            "margin": null,
            "max_height": null,
            "max_width": null,
            "min_height": null,
            "min_width": null,
            "object_fit": null,
            "object_position": null,
            "order": null,
            "overflow": null,
            "overflow_x": null,
            "overflow_y": null,
            "padding": null,
            "right": null,
            "top": null,
            "visibility": null,
            "width": null
          }
        },
        "04f16df8383a4572bc6481111a87f83f": {
          "model_module": "@jupyter-widgets/controls",
          "model_name": "DescriptionStyleModel",
          "model_module_version": "1.5.0",
          "state": {
            "_model_module": "@jupyter-widgets/controls",
            "_model_module_version": "1.5.0",
            "_model_name": "DescriptionStyleModel",
            "_view_count": null,
            "_view_module": "@jupyter-widgets/base",
            "_view_module_version": "1.2.0",
            "_view_name": "StyleView",
            "description_width": ""
          }
        },
        "804f229594474e2ab9885670813682bd": {
          "model_module": "@jupyter-widgets/base",
          "model_name": "LayoutModel",
          "model_module_version": "1.2.0",
          "state": {
            "_model_module": "@jupyter-widgets/base",
            "_model_module_version": "1.2.0",
            "_model_name": "LayoutModel",
            "_view_count": null,
            "_view_module": "@jupyter-widgets/base",
            "_view_module_version": "1.2.0",
            "_view_name": "LayoutView",
            "align_content": null,
            "align_items": null,
            "align_self": null,
            "border": null,
            "bottom": null,
            "display": null,
            "flex": null,
            "flex_flow": null,
            "grid_area": null,
            "grid_auto_columns": null,
            "grid_auto_flow": null,
            "grid_auto_rows": null,
            "grid_column": null,
            "grid_gap": null,
            "grid_row": null,
            "grid_template_areas": null,
            "grid_template_columns": null,
            "grid_template_rows": null,
            "height": null,
            "justify_content": null,
            "justify_items": null,
            "left": null,
            "margin": null,
            "max_height": null,
            "max_width": null,
            "min_height": null,
            "min_width": null,
            "object_fit": null,
            "object_position": null,
            "order": null,
            "overflow": null,
            "overflow_x": null,
            "overflow_y": null,
            "padding": null,
            "right": null,
            "top": null,
            "visibility": null,
            "width": null
          }
        },
        "7c3be05b901c4e4ea8a636e080e62543": {
          "model_module": "@jupyter-widgets/controls",
          "model_name": "ProgressStyleModel",
          "model_module_version": "1.5.0",
          "state": {
            "_model_module": "@jupyter-widgets/controls",
            "_model_module_version": "1.5.0",
            "_model_name": "ProgressStyleModel",
            "_view_count": null,
            "_view_module": "@jupyter-widgets/base",
            "_view_module_version": "1.2.0",
            "_view_name": "StyleView",
            "bar_color": null,
            "description_width": ""
          }
        },
        "87375c2e76254b2f8d833d7857d30602": {
          "model_module": "@jupyter-widgets/base",
          "model_name": "LayoutModel",
          "model_module_version": "1.2.0",
          "state": {
            "_model_module": "@jupyter-widgets/base",
            "_model_module_version": "1.2.0",
            "_model_name": "LayoutModel",
            "_view_count": null,
            "_view_module": "@jupyter-widgets/base",
            "_view_module_version": "1.2.0",
            "_view_name": "LayoutView",
            "align_content": null,
            "align_items": null,
            "align_self": null,
            "border": null,
            "bottom": null,
            "display": null,
            "flex": null,
            "flex_flow": null,
            "grid_area": null,
            "grid_auto_columns": null,
            "grid_auto_flow": null,
            "grid_auto_rows": null,
            "grid_column": null,
            "grid_gap": null,
            "grid_row": null,
            "grid_template_areas": null,
            "grid_template_columns": null,
            "grid_template_rows": null,
            "height": null,
            "justify_content": null,
            "justify_items": null,
            "left": null,
            "margin": null,
            "max_height": null,
            "max_width": null,
            "min_height": null,
            "min_width": null,
            "object_fit": null,
            "object_position": null,
            "order": null,
            "overflow": null,
            "overflow_x": null,
            "overflow_y": null,
            "padding": null,
            "right": null,
            "top": null,
            "visibility": null,
            "width": null
          }
        },
        "cbe5991134054c0bb2f0af403f37956e": {
          "model_module": "@jupyter-widgets/controls",
          "model_name": "DescriptionStyleModel",
          "model_module_version": "1.5.0",
          "state": {
            "_model_module": "@jupyter-widgets/controls",
            "_model_module_version": "1.5.0",
            "_model_name": "DescriptionStyleModel",
            "_view_count": null,
            "_view_module": "@jupyter-widgets/base",
            "_view_module_version": "1.2.0",
            "_view_name": "StyleView",
            "description_width": ""
          }
        },
        "cf762a38e81444c8ac8113a73458f9e9": {
          "model_module": "@jupyter-widgets/controls",
          "model_name": "HBoxModel",
          "model_module_version": "1.5.0",
          "state": {
            "_dom_classes": [],
            "_model_module": "@jupyter-widgets/controls",
            "_model_module_version": "1.5.0",
            "_model_name": "HBoxModel",
            "_view_count": null,
            "_view_module": "@jupyter-widgets/controls",
            "_view_module_version": "1.5.0",
            "_view_name": "HBoxView",
            "box_style": "",
            "children": [
              "IPY_MODEL_0f5813289b5d44838c51fbed852a5bd7",
              "IPY_MODEL_b8cf97b0c8234c83ad062d184815e8d2",
              "IPY_MODEL_727880e44beb428b86e0f99aa15f5142"
            ],
            "layout": "IPY_MODEL_4bddc608aa7742d3b53f401a7d607293"
          }
        },
        "0f5813289b5d44838c51fbed852a5bd7": {
          "model_module": "@jupyter-widgets/controls",
          "model_name": "HTMLModel",
          "model_module_version": "1.5.0",
          "state": {
            "_dom_classes": [],
            "_model_module": "@jupyter-widgets/controls",
            "_model_module_version": "1.5.0",
            "_model_name": "HTMLModel",
            "_view_count": null,
            "_view_module": "@jupyter-widgets/controls",
            "_view_module_version": "1.5.0",
            "_view_name": "HTMLView",
            "description": "",
            "description_tooltip": null,
            "layout": "IPY_MODEL_f788e1294e854b9cb695f2cdc9540189",
            "placeholder": "​",
            "style": "IPY_MODEL_3b4415c6083045e091a218a0bb202298",
            "value": "Downloading: 100%"
          }
        },
        "b8cf97b0c8234c83ad062d184815e8d2": {
          "model_module": "@jupyter-widgets/controls",
          "model_name": "FloatProgressModel",
          "model_module_version": "1.5.0",
          "state": {
            "_dom_classes": [],
            "_model_module": "@jupyter-widgets/controls",
            "_model_module_version": "1.5.0",
            "_model_name": "FloatProgressModel",
            "_view_count": null,
            "_view_module": "@jupyter-widgets/controls",
            "_view_module_version": "1.5.0",
            "_view_name": "ProgressView",
            "bar_style": "success",
            "description": "",
            "description_tooltip": null,
            "layout": "IPY_MODEL_18af16d0c8514bb3b668627e9e6364e5",
            "max": 1,
            "min": 0,
            "orientation": "horizontal",
            "style": "IPY_MODEL_f68f906f1fb242ecb60e59867292bc4a",
            "value": 1
          }
        },
        "727880e44beb428b86e0f99aa15f5142": {
          "model_module": "@jupyter-widgets/controls",
          "model_name": "HTMLModel",
          "model_module_version": "1.5.0",
          "state": {
            "_dom_classes": [],
            "_model_module": "@jupyter-widgets/controls",
            "_model_module_version": "1.5.0",
            "_model_name": "HTMLModel",
            "_view_count": null,
            "_view_module": "@jupyter-widgets/controls",
            "_view_module_version": "1.5.0",
            "_view_name": "HTMLView",
            "description": "",
            "description_tooltip": null,
            "layout": "IPY_MODEL_ff42590050d949319f06917182044236",
            "placeholder": "​",
            "style": "IPY_MODEL_bbf732af60704e2c8fb17e2084bcfc1e",
            "value": ""
          }
        },
        "4bddc608aa7742d3b53f401a7d607293": {
          "model_module": "@jupyter-widgets/base",
          "model_name": "LayoutModel",
          "model_module_version": "1.2.0",
          "state": {
            "_model_module": "@jupyter-widgets/base",
            "_model_module_version": "1.2.0",
            "_model_name": "LayoutModel",
            "_view_count": null,
            "_view_module": "@jupyter-widgets/base",
            "_view_module_version": "1.2.0",
            "_view_name": "LayoutView",
            "align_content": null,
            "align_items": null,
            "align_self": null,
            "border": null,
            "bottom": null,
            "display": null,
            "flex": null,
            "flex_flow": null,
            "grid_area": null,
            "grid_auto_columns": null,
            "grid_auto_flow": null,
            "grid_auto_rows": null,
            "grid_column": null,
            "grid_gap": null,
            "grid_row": null,
            "grid_template_areas": null,
            "grid_template_columns": null,
            "grid_template_rows": null,
            "height": null,
            "justify_content": null,
            "justify_items": null,
            "left": null,
            "margin": null,
            "max_height": null,
            "max_width": null,
            "min_height": null,
            "min_width": null,
            "object_fit": null,
            "object_position": null,
            "order": null,
            "overflow": null,
            "overflow_x": null,
            "overflow_y": null,
            "padding": null,
            "right": null,
            "top": null,
            "visibility": null,
            "width": null
          }
        },
        "f788e1294e854b9cb695f2cdc9540189": {
          "model_module": "@jupyter-widgets/base",
          "model_name": "LayoutModel",
          "model_module_version": "1.2.0",
          "state": {
            "_model_module": "@jupyter-widgets/base",
            "_model_module_version": "1.2.0",
            "_model_name": "LayoutModel",
            "_view_count": null,
            "_view_module": "@jupyter-widgets/base",
            "_view_module_version": "1.2.0",
            "_view_name": "LayoutView",
            "align_content": null,
            "align_items": null,
            "align_self": null,
            "border": null,
            "bottom": null,
            "display": null,
            "flex": null,
            "flex_flow": null,
            "grid_area": null,
            "grid_auto_columns": null,
            "grid_auto_flow": null,
            "grid_auto_rows": null,
            "grid_column": null,
            "grid_gap": null,
            "grid_row": null,
            "grid_template_areas": null,
            "grid_template_columns": null,
            "grid_template_rows": null,
            "height": null,
            "justify_content": null,
            "justify_items": null,
            "left": null,
            "margin": null,
            "max_height": null,
            "max_width": null,
            "min_height": null,
            "min_width": null,
            "object_fit": null,
            "object_position": null,
            "order": null,
            "overflow": null,
            "overflow_x": null,
            "overflow_y": null,
            "padding": null,
            "right": null,
            "top": null,
            "visibility": null,
            "width": null
          }
        },
        "3b4415c6083045e091a218a0bb202298": {
          "model_module": "@jupyter-widgets/controls",
          "model_name": "DescriptionStyleModel",
          "model_module_version": "1.5.0",
          "state": {
            "_model_module": "@jupyter-widgets/controls",
            "_model_module_version": "1.5.0",
            "_model_name": "DescriptionStyleModel",
            "_view_count": null,
            "_view_module": "@jupyter-widgets/base",
            "_view_module_version": "1.2.0",
            "_view_name": "StyleView",
            "description_width": ""
          }
        },
        "18af16d0c8514bb3b668627e9e6364e5": {
          "model_module": "@jupyter-widgets/base",
          "model_name": "LayoutModel",
          "model_module_version": "1.2.0",
          "state": {
            "_model_module": "@jupyter-widgets/base",
            "_model_module_version": "1.2.0",
            "_model_name": "LayoutModel",
            "_view_count": null,
            "_view_module": "@jupyter-widgets/base",
            "_view_module_version": "1.2.0",
            "_view_name": "LayoutView",
            "align_content": null,
            "align_items": null,
            "align_self": null,
            "border": null,
            "bottom": null,
            "display": null,
            "flex": null,
            "flex_flow": null,
            "grid_area": null,
            "grid_auto_columns": null,
            "grid_auto_flow": null,
            "grid_auto_rows": null,
            "grid_column": null,
            "grid_gap": null,
            "grid_row": null,
            "grid_template_areas": null,
            "grid_template_columns": null,
            "grid_template_rows": null,
            "height": null,
            "justify_content": null,
            "justify_items": null,
            "left": null,
            "margin": null,
            "max_height": null,
            "max_width": null,
            "min_height": null,
            "min_width": null,
            "object_fit": null,
            "object_position": null,
            "order": null,
            "overflow": null,
            "overflow_x": null,
            "overflow_y": null,
            "padding": null,
            "right": null,
            "top": null,
            "visibility": null,
            "width": null
          }
        },
        "f68f906f1fb242ecb60e59867292bc4a": {
          "model_module": "@jupyter-widgets/controls",
          "model_name": "ProgressStyleModel",
          "model_module_version": "1.5.0",
          "state": {
            "_model_module": "@jupyter-widgets/controls",
            "_model_module_version": "1.5.0",
            "_model_name": "ProgressStyleModel",
            "_view_count": null,
            "_view_module": "@jupyter-widgets/base",
            "_view_module_version": "1.2.0",
            "_view_name": "StyleView",
            "bar_color": null,
            "description_width": ""
          }
        },
        "ff42590050d949319f06917182044236": {
          "model_module": "@jupyter-widgets/base",
          "model_name": "LayoutModel",
          "model_module_version": "1.2.0",
          "state": {
            "_model_module": "@jupyter-widgets/base",
            "_model_module_version": "1.2.0",
            "_model_name": "LayoutModel",
            "_view_count": null,
            "_view_module": "@jupyter-widgets/base",
            "_view_module_version": "1.2.0",
            "_view_name": "LayoutView",
            "align_content": null,
            "align_items": null,
            "align_self": null,
            "border": null,
            "bottom": null,
            "display": null,
            "flex": null,
            "flex_flow": null,
            "grid_area": null,
            "grid_auto_columns": null,
            "grid_auto_flow": null,
            "grid_auto_rows": null,
            "grid_column": null,
            "grid_gap": null,
            "grid_row": null,
            "grid_template_areas": null,
            "grid_template_columns": null,
            "grid_template_rows": null,
            "height": null,
            "justify_content": null,
            "justify_items": null,
            "left": null,
            "margin": null,
            "max_height": null,
            "max_width": null,
            "min_height": null,
            "min_width": null,
            "object_fit": null,
            "object_position": null,
            "order": null,
            "overflow": null,
            "overflow_x": null,
            "overflow_y": null,
            "padding": null,
            "right": null,
            "top": null,
            "visibility": null,
            "width": null
          }
        },
        "bbf732af60704e2c8fb17e2084bcfc1e": {
          "model_module": "@jupyter-widgets/controls",
          "model_name": "DescriptionStyleModel",
          "model_module_version": "1.5.0",
          "state": {
            "_model_module": "@jupyter-widgets/controls",
            "_model_module_version": "1.5.0",
            "_model_name": "DescriptionStyleModel",
            "_view_count": null,
            "_view_module": "@jupyter-widgets/base",
            "_view_module_version": "1.2.0",
            "_view_name": "StyleView",
            "description_width": ""
          }
        }
      }
    }
  },
  "nbformat": 4,
  "nbformat_minor": 5
}